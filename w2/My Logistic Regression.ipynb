{
 "cells": [
  {
   "cell_type": "markdown",
   "metadata": {},
   "source": [
    "# Regresión logística utilizando el método de Newton, J. Raphson"
   ]
  },
  {
   "cell_type": "code",
   "execution_count": 1,
   "metadata": {},
   "outputs": [],
   "source": [
    "from IPython.display import display, Math, Latex"
   ]
  },
  {
   "cell_type": "markdown",
   "metadata": {},
   "source": [
    "Regresion logística:"
   ]
  },
  {
   "cell_type": "code",
   "execution_count": 4,
   "metadata": {},
   "outputs": [
    {
     "data": {
      "text/latex": [
       "$$y = \\sigma(w \\cdot x+b)$$"
      ],
      "text/plain": [
       "<IPython.core.display.Math object>"
      ]
     },
     "metadata": {},
     "output_type": "display_data"
    }
   ],
   "source": [
    "display(Math(r'y = \\sigma(w\\cdot x+b)'))"
   ]
  },
  {
   "cell_type": "markdown",
   "metadata": {},
   "source": [
    "Ya que aplicar el error MSE es dificil de optimizar cuando es aplicado a clasificación probabilistica"
   ]
  },
  {
   "cell_type": "markdown",
   "metadata": {},
   "source": [
    "Basandose en el libro: *The Elements of Statistical Learning*, *Second Edition*, **pag. 119**"
   ]
  },
  {
   "cell_type": "code",
   "execution_count": 7,
   "metadata": {},
   "outputs": [
    {
     "data": {
      "text/latex": [
       "$$\\ln(\\frac{P_i}{1 - P_i}) = β_{0} + β_{i}^{T}\\cdot X$$"
      ],
      "text/plain": [
       "<IPython.core.display.Math object>"
      ]
     },
     "metadata": {},
     "output_type": "display_data"
    }
   ],
   "source": [
    "display(Math(r'\\ln(\\frac{P_i}{1 - P_i}) = β_{0} + β_{i}^{T}\\cdot X'))"
   ]
  },
  {
   "cell_type": "markdown",
   "metadata": {},
   "source": [
    " ## Estimador de máxima verosimilitud\n"
   ]
  },
  {
   "cell_type": "code",
   "execution_count": 74,
   "metadata": {},
   "outputs": [
    {
     "name": "stdout",
     "output_type": "stream",
     "text": [
      "Estimador de máxima verosimilitud, MLE:\n"
     ]
    },
    {
     "data": {
      "text/latex": [
       "$$L(\\beta)=\\prod_{i=1}^n P_i^{y_i}(1-Pi)^{1 - y_i}$$"
      ],
      "text/plain": [
       "<IPython.core.display.Math object>"
      ]
     },
     "metadata": {},
     "output_type": "display_data"
    }
   ],
   "source": [
    "print('Estimador de máxima verosimilitud, MLE:')\n",
    "display(Math(r'L(\\beta)=\\prod_{i=1}^n P_i^{y_i}(1-Pi)^{1 - y_i}'))"
   ]
  },
  {
   "cell_type": "code",
   "execution_count": 13,
   "metadata": {},
   "outputs": [
    {
     "name": "stdout",
     "output_type": "stream",
     "text": [
      "Sea la regresión logística:\n"
     ]
    },
    {
     "data": {
      "text/latex": [
       "$$\\ln(\\frac{P_i}{1 - P_i}) = β_{0} + \\sum_{j=1}^{k}β_{j}^{T} X_{ij}$$"
      ],
      "text/plain": [
       "<IPython.core.display.Math object>"
      ]
     },
     "metadata": {},
     "output_type": "display_data"
    },
    {
     "name": "stdout",
     "output_type": "stream",
     "text": [
      "Siendo k, el número de \"Features\"\n"
     ]
    }
   ],
   "source": [
    "print('Sea la regresión logística:')\n",
    "display(Math(r'\\ln(\\frac{P_i}{1 - P_i}) = β_{0} + \\sum_{j=1}^{k}β_{j}^{T} X_{ij}'))\n",
    "print('Siendo k, el número de \"Features\"')"
   ]
  },
  {
   "cell_type": "code",
   "execution_count": 21,
   "metadata": {},
   "outputs": [
    {
     "name": "stdout",
     "output_type": "stream",
     "text": [
      "De la ecuación anterior:\n"
     ]
    },
    {
     "data": {
      "text/latex": [
       "$$P_i = \\frac{1}{1 + e^{-(\\beta_0 + β\\cdot x_i)}}$$"
      ],
      "text/plain": [
       "<IPython.core.display.Math object>"
      ]
     },
     "metadata": {},
     "output_type": "display_data"
    },
    {
     "name": "stdout",
     "output_type": "stream",
     "text": [
      "Además:\n"
     ]
    },
    {
     "data": {
      "text/latex": [
       "$$y = 1  \\leftrightarrow P(x) \\geq 0 \\leftrightarrow β_0 + β\\cdot X \\geq 0$$"
      ],
      "text/plain": [
       "<IPython.core.display.Math object>"
      ]
     },
     "metadata": {},
     "output_type": "display_data"
    },
    {
     "data": {
      "text/latex": [
       "$$y = 0  \\leftrightarrow P(x) < 0 \\leftrightarrow β_0 + β\\cdot X < 0$$"
      ],
      "text/plain": [
       "<IPython.core.display.Math object>"
      ]
     },
     "metadata": {},
     "output_type": "display_data"
    }
   ],
   "source": [
    "print('De la ecuación anterior:')\n",
    "display(Math(r'P_i = \\frac{1}{1 + e^{-(\\beta_0 + β\\cdot x_i)}}'))\n",
    "print('Además:')\n",
    "display(Math('y = 1  \\leftrightarrow P(x) \\geq 0 \\leftrightarrow β_0 + β\\cdot X \\geq 0'))\n",
    "display(Math('y = 0  \\leftrightarrow P(x) < 0 \\leftrightarrow β_0 + β\\cdot X < 0'))"
   ]
  },
  {
   "cell_type": "code",
   "execution_count": 26,
   "metadata": {},
   "outputs": [
    {
     "data": {
      "text/latex": [
       "$$Sea: l = \\ln{L(\\beta)}$$"
      ],
      "text/plain": [
       "<IPython.core.display.Math object>"
      ]
     },
     "metadata": {},
     "output_type": "display_data"
    },
    {
     "name": "stdout",
     "output_type": "stream",
     "text": [
      "Aplicando propiedades del logaritmo:\n"
     ]
    },
    {
     "data": {
      "text/latex": [
       "$$l = \\sum{(1 - P_i)} + y_i\\cdot (\\ln{P_i} - \\ln{(1 - P_i)})$$"
      ],
      "text/plain": [
       "<IPython.core.display.Math object>"
      ]
     },
     "metadata": {},
     "output_type": "display_data"
    },
    {
     "data": {
      "text/latex": [
       "$$l = \\sum{(1 - P_i)} + y_i\\cdot (\\ln\\frac{{P_i}}{{(1 - P_i)}})$$"
      ],
      "text/plain": [
       "<IPython.core.display.Math object>"
      ]
     },
     "metadata": {},
     "output_type": "display_data"
    }
   ],
   "source": [
    "display(Math(r'Sea: l = \\ln{L(\\beta)}'))\n",
    "print('Aplicando propiedades del logaritmo:')\n",
    "display(Math(r'l = \\sum{(1 - P_i)} + y_i\\cdot (\\ln{P_i} - \\ln{(1 - P_i)})'))\n",
    "display(Math(r'l = \\sum{(1 - P_i)} + y_i\\cdot (\\ln\\frac{{P_i}}{{(1 - P_i)}})'))"
   ]
  },
  {
   "cell_type": "markdown",
   "metadata": {},
   "source": [
    "El segundo término aparece líneas más arriba, mientras que el primero se puede hallar despejando la misma ecuación"
   ]
  },
  {
   "cell_type": "code",
   "execution_count": 31,
   "metadata": {},
   "outputs": [
    {
     "data": {
      "text/latex": [
       "$$l = \\sum_{i=1}^n{-\\ln{(1 + e^{β_0 + β\\cdot X})}} + y_i (β_0 + \\sum_{j=1}^kβ_j\\cdot X_{ij})$$"
      ],
      "text/plain": [
       "<IPython.core.display.Math object>"
      ]
     },
     "metadata": {},
     "output_type": "display_data"
    }
   ],
   "source": [
    "display(Math(r'l = \\sum_{i=1}^n{-\\ln{(1 + e^{β_0 + β\\cdot X})}} + y_i (β_0 + \\sum_{j=1}^kβ_j\\cdot X_{ij})'))"
   ]
  },
  {
   "cell_type": "code",
   "execution_count": 38,
   "metadata": {},
   "outputs": [
    {
     "data": {
      "text/plain": [
       "'Para calcular la máxima verosimilitud se debe hallar las derivadas respecto a los coeficientes:'"
      ]
     },
     "metadata": {},
     "output_type": "display_data"
    },
    {
     "data": {
      "text/latex": [
       "$$\\frac{\\partial{l}}{\\partial{\\beta_0}} = \\frac{\\partial{l}}{\\partial{\\beta_j}} = 0$$"
      ],
      "text/plain": [
       "<IPython.core.display.Math object>"
      ]
     },
     "metadata": {},
     "output_type": "display_data"
    }
   ],
   "source": [
    "display(\"Para calcular la máxima verosimilitud se debe hallar las derivadas respecto a los coeficientes:\")\n",
    "display(Math(r'\\frac{\\partial{l}}{\\partial{\\beta_0}} = \\frac{\\partial{l}}{\\partial{\\beta_j}} = 0'))"
   ]
  },
  {
   "cell_type": "code",
   "execution_count": 44,
   "metadata": {},
   "outputs": [
    {
     "data": {
      "text/latex": [
       "$$\\frac{\\partial{l}}{\\partial{\\beta_0}} = \\sum_{i=1}^n 1\\cdot (y_i - P_i)$$"
      ],
      "text/plain": [
       "<IPython.core.display.Math object>"
      ]
     },
     "metadata": {},
     "output_type": "display_data"
    },
    {
     "data": {
      "text/latex": [
       "$$\\frac{\\partial{l}}{\\partial{\\beta_j}} = \\sum_{i=1}^nX_{ij}(y_i - P_i)$$"
      ],
      "text/plain": [
       "<IPython.core.display.Math object>"
      ]
     },
     "metadata": {},
     "output_type": "display_data"
    }
   ],
   "source": [
    "display(Math(r'\\frac{\\partial{l}}{\\partial{\\beta_0}} = \\sum_{i=1}^n 1\\cdot (y_i - P_i)'))\n",
    "display(Math(r'\\frac{\\partial{l}}{\\partial{\\beta_j}} = \\sum_{i=1}^nX_{ij}(y_i - P_i)'))"
   ]
  },
  {
   "cell_type": "markdown",
   "metadata": {},
   "source": [
    "Agrupando las 2 encuaciónes anteriores en una sola"
   ]
  },
  {
   "cell_type": "code",
   "execution_count": 45,
   "metadata": {},
   "outputs": [
    {
     "data": {
      "text/latex": [
       "$$\\frac{\\partial{l}}{\\partial{\\beta_j}} = \\sum_{i=1}^nX_{ij}(y_i - P_i)$$"
      ],
      "text/plain": [
       "<IPython.core.display.Math object>"
      ]
     },
     "metadata": {},
     "output_type": "display_data"
    }
   ],
   "source": [
    "display(Math(r'\\frac{\\partial{l}}{\\partial{\\beta_j}} = \\sum_{i=1}^nX_{ij}(y_i - P_i)'))"
   ]
  },
  {
   "cell_type": "markdown",
   "metadata": {},
   "source": [
    "Esto puede resumirse como:"
   ]
  },
  {
   "cell_type": "code",
   "execution_count": 46,
   "metadata": {},
   "outputs": [
    {
     "data": {
      "text/latex": [
       "$$\\frac{\\partial{l}}{\\partial{\\beta_j}} = X_j\\cdot (y_i - P_i)$$"
      ],
      "text/plain": [
       "<IPython.core.display.Math object>"
      ]
     },
     "metadata": {},
     "output_type": "display_data"
    }
   ],
   "source": [
    "display(Math(r'\\frac{\\partial{l}}{\\partial{\\beta_j}} = X_j\\cdot (y_i - P_i)'))"
   ]
  },
  {
   "cell_type": "markdown",
   "metadata": {},
   "source": [
    "Y dado que se cumple para todos los j"
   ]
  },
  {
   "cell_type": "code",
   "execution_count": 47,
   "metadata": {},
   "outputs": [
    {
     "data": {
      "text/latex": [
       "$$\\frac{\\partial{l}}{\\partial{\\beta}} = X\\cdot (y_i - P_i)$$"
      ],
      "text/plain": [
       "<IPython.core.display.Math object>"
      ]
     },
     "metadata": {},
     "output_type": "display_data"
    }
   ],
   "source": [
    "display(Math(r'\\frac{\\partial{l}}{\\partial{\\beta}} = X\\cdot (y_i - P_i)'))"
   ]
  },
  {
   "cell_type": "markdown",
   "metadata": {},
   "source": [
    "Cálculo de la segunda derivada:"
   ]
  },
  {
   "cell_type": "code",
   "execution_count": 64,
   "metadata": {},
   "outputs": [
    {
     "data": {
      "text/latex": [
       "$$\\frac{\\partial^2 l}{\\partial β^2} = \\sum_{i=1}^nX_{ij}P_i(1-P_i)X_{ij}$$"
      ],
      "text/plain": [
       "<IPython.core.display.Math object>"
      ]
     },
     "metadata": {},
     "output_type": "display_data"
    }
   ],
   "source": [
    "display(Math(r'\\frac{\\partial^2 l}{\\partial β^2} = \\sum_{i=1}^nX_{ij}P_i(1-P_i)X_{ij}'))"
   ]
  },
  {
   "cell_type": "code",
   "execution_count": 56,
   "metadata": {},
   "outputs": [
    {
     "data": {
      "text/latex": [
       "$$\\frac{\\partial^2 l}{\\partial x^2} = X\\cdot W\\cdot X^T$$"
      ],
      "text/plain": [
       "<IPython.core.display.Math object>"
      ]
     },
     "metadata": {},
     "output_type": "display_data"
    },
    {
     "data": {
      "text/latex": [
       "$$W(β) = diag(P_i(1-P_i))^n_{i=1}$$"
      ],
      "text/plain": [
       "<IPython.core.display.Math object>"
      ]
     },
     "metadata": {},
     "output_type": "display_data"
    }
   ],
   "source": [
    "display(Math(r'\\frac{\\partial^2 l}{\\partial x^2} = X\\cdot W\\cdot X^T'))\n",
    "display(Math(r'W(β) = diag(P_i(1-P_i))^n_{i=1}'))"
   ]
  },
  {
   "cell_type": "markdown",
   "metadata": {},
   "source": [
    "### Método de Newton - Raphson\n",
    "Dado que la ecuación D(l)/D(B) = 0, se puede utilizar un método iterativo, este es M. Newton Raphson"
   ]
  },
  {
   "cell_type": "code",
   "execution_count": 274,
   "metadata": {},
   "outputs": [
    {
     "data": {
      "text/latex": [
       "$$x_{n+1} = x_{n} - \\frac{f(x_n)}{f'(x_n)}$$"
      ],
      "text/plain": [
       "<IPython.core.display.Math object>"
      ]
     },
     "metadata": {},
     "output_type": "display_data"
    },
    {
     "name": "stdout",
     "output_type": "stream",
     "text": [
      "Metodo para calcular cuando f(x) = 0\n"
     ]
    },
    {
     "data": {
      "text/latex": [
       "$$f(β) = \\frac{\\partial{l}}{\\partial{β}}$$"
      ],
      "text/plain": [
       "<IPython.core.display.Math object>"
      ]
     },
     "metadata": {},
     "output_type": "display_data"
    },
    {
     "data": {
      "text/latex": [
       "$$f'(β) = -X\\cdot W(β)\\cdot X^T$$"
      ],
      "text/plain": [
       "<IPython.core.display.Math object>"
      ]
     },
     "metadata": {},
     "output_type": "display_data"
    }
   ],
   "source": [
    "display(Math(r\"x_{n+1} = x_{n} - \\frac{f(x_n)}{f'(x_n)}\"))\n",
    "print('Metodo para calcular cuando f(x) = 0')\n",
    "display(Math(r'f(β) = \\frac{\\partial{l}}{\\partial{β}}'))\n",
    "display(Math(r\"f'(β) = -X\\cdot W(β)\\cdot X^T\"))"
   ]
  },
  {
   "cell_type": "code",
   "execution_count": 273,
   "metadata": {},
   "outputs": [
    {
     "name": "stdout",
     "output_type": "stream",
     "text": [
      "Finalmente:\n"
     ]
    },
    {
     "data": {
      "text/latex": [
       "$$β_{n+1} = β_{n} + (X^T\\cdot W(β)\\cdot X)^{-1}(X^T\\cdot (y - P))$$"
      ],
      "text/plain": [
       "<IPython.core.display.Math object>"
      ]
     },
     "metadata": {},
     "output_type": "display_data"
    }
   ],
   "source": [
    "print('Finalmente:')\n",
    "display(Math(r\"β_{n+1} = β_{n} + (X^T\\cdot W(β)\\cdot X)^{-1}(X^T\\cdot (y - P))\"))"
   ]
  },
  {
   "cell_type": "markdown",
   "metadata": {},
   "source": [
    "# Implementación de regresión logística"
   ]
  },
  {
   "cell_type": "code",
   "execution_count": 75,
   "metadata": {},
   "outputs": [
    {
     "name": "stdout",
     "output_type": "stream",
     "text": [
      "Obtener: Estimador de máxima verosimilitud, MLE:\n"
     ]
    },
    {
     "data": {
      "text/latex": [
       "$$L(\\beta)=\\prod_{i=1}^n P_i^{y_i}(1-Pi)^{1 - y_i}$$"
      ],
      "text/plain": [
       "<IPython.core.display.Math object>"
      ]
     },
     "metadata": {},
     "output_type": "display_data"
    }
   ],
   "source": [
    "print('Obtener: Estimador de máxima verosimilitud, MLE:')\n",
    "display(Math(r'L(\\beta)=\\prod_{i=1}^n P_i^{y_i}(1-Pi)^{1 - y_i}'))"
   ]
  },
  {
   "cell_type": "markdown",
   "metadata": {},
   "source": [
    "# Cálculo de probabilidades"
   ]
  },
  {
   "cell_type": "code",
   "execution_count": 76,
   "metadata": {},
   "outputs": [
    {
     "data": {
      "text/latex": [
       "$$P_i = \\frac{1}{1 + e^{-(\\beta_0 + β\\cdot x_i)}}$$"
      ],
      "text/plain": [
       "<IPython.core.display.Math object>"
      ]
     },
     "metadata": {},
     "output_type": "display_data"
    }
   ],
   "source": [
    "display(Math(r'P_i = \\frac{1}{1 + e^{-(\\beta_0 + β\\cdot x_i)}}'))"
   ]
  },
  {
   "cell_type": "code",
   "execution_count": 269,
   "metadata": {},
   "outputs": [],
   "source": [
    "# Cálculo de probabilidad de todos los puntos, esto es: P(y | x_1), ....\n",
    "def logistic_prob(X, beta):\n",
    "    import numpy as np\n",
    "    rows = np.shape(X)[0] # Numero de filas\n",
    "    cols = np.shape(X)[1] # Número de columnas\n",
    "    pi = list(range(1, rows + 1))\n",
    "    exponent = list(range(1, rows +1 ))\n",
    "    # Obtener las probabilidades:\n",
    "    for i in range(rows):\n",
    "        exponent[i] = 0\n",
    "        # Obtener los exponentes, esto es por columnas:\n",
    "        for j in range(cols):\n",
    "            ex = X[i][j]*beta[j]\n",
    "            exponent[i] = exponent[i] + ex\n",
    "        # End for exps\n",
    "        with np.errstate(divide='ignore', invalid='ignore'):\n",
    "            pi[i] = 1/(1 + np.exp(-exponent[i]))\n",
    "    return pi"
   ]
  },
  {
   "cell_type": "markdown",
   "metadata": {},
   "source": [
    "# Cálculo de la matriz diagonal W\n",
    "Para aplicar el método de Newton raphson, se necesita del calculo de la segunda derivada de la función **l(B)**"
   ]
  },
  {
   "cell_type": "code",
   "execution_count": 116,
   "metadata": {},
   "outputs": [
    {
     "data": {
      "text/latex": [
       "$$\\frac{\\partial^2 l}{\\partial x^2} = X^T\\cdot W\\cdot X$$"
      ],
      "text/plain": [
       "<IPython.core.display.Math object>"
      ]
     },
     "metadata": {},
     "output_type": "display_data"
    },
    {
     "data": {
      "text/latex": [
       "$$W(β) = diag(P_i(1-P_i))^n_{i=1}$$"
      ],
      "text/plain": [
       "<IPython.core.display.Math object>"
      ]
     },
     "metadata": {},
     "output_type": "display_data"
    }
   ],
   "source": [
    "display(Math(r'\\frac{\\partial^2 l}{\\partial x^2} = X^T\\cdot W\\cdot X'))\n",
    "display(Math(r'W(β) = diag(P_i(1-P_i))^n_{i=1}'))"
   ]
  },
  {
   "cell_type": "code",
   "execution_count": 268,
   "metadata": {},
   "outputs": [],
   "source": [
    "# Obtener la matriz diagonal, con las probabilidades Pi(1-Pi)\n",
    "def getW(P):\n",
    "    import numpy as np\n",
    "    n = len(P)\n",
    "    W = np.zeros(n*n).reshape(n,n)\n",
    "    for i in range(n):\n",
    "        W[i,i] = P[i]*(1-P[i])\n",
    "        W[i,i].astype(float)\n",
    "    return W"
   ]
  },
  {
   "cell_type": "markdown",
   "metadata": {},
   "source": [
    "# Aplicar el método de Newton Raphson"
   ]
  },
  {
   "cell_type": "code",
   "execution_count": 272,
   "metadata": {},
   "outputs": [
    {
     "data": {
      "text/latex": [
       "$$x_{n+1} = x_{n} - \\frac{f(x_n)}{f'(x_n)}$$"
      ],
      "text/plain": [
       "<IPython.core.display.Math object>"
      ]
     },
     "metadata": {},
     "output_type": "display_data"
    },
    {
     "data": {
      "text/latex": [
       "$$β_{n+1} = β_{n} + (X^T\\cdot W(β)\\cdot X)^{-1}(X^T\\cdot (y - P))$$"
      ],
      "text/plain": [
       "<IPython.core.display.Math object>"
      ]
     },
     "metadata": {},
     "output_type": "display_data"
    }
   ],
   "source": [
    "display(Math(r\"x_{n+1} = x_{n} - \\frac{f(x_n)}{f'(x_n)}\"))\n",
    "display(Math(r\"β_{n+1} = β_{n} + (X^T\\cdot W(β)\\cdot X)^{-1}(X^T\\cdot (y - P))\"))"
   ]
  },
  {
   "cell_type": "code",
   "execution_count": 275,
   "metadata": {},
   "outputs": [],
   "source": [
    "def logistic_regression(X, Y, limit):\n",
    "    import numpy as np\n",
    "    from numpy.linalg import inv\n",
    "    rows = np.shape(X)[0]\n",
    "    # Definición de la entrada bias, siempre es 1\n",
    "    bias = np.ones(rows).reshape(rows, 1)\n",
    "    # Añadir el bias a la entrada X\n",
    "    __X = np.append(X, bias, axis = 1)\n",
    "    cols = np.shape(__X)[1]\n",
    "    # Inicializando beta como una matriz columna de ceros\n",
    "    beta = np.zeros(cols).reshape(cols, 1)\n",
    "    # Primero se obtienen las probabilidades:\n",
    "    ## range(1, t) itera desde 1 hasta t-1\n",
    "    delta_beta = np.array(range(1, cols + 1)).reshape(cols, 1)\n",
    "    # Definir un error inicial\n",
    "    in_error = 1000\n",
    "    while( in_error > limit):\n",
    "        # Obtener la matriz Pi\n",
    "        Pi = []\n",
    "        Pi = logistic_prob(__X, beta)\n",
    "        # Obtener la matriz W:\n",
    "        W = getW(Pi)\n",
    "        \n",
    "        den = inv(np.matmul(np.matmul(np.transpose(np.array(__X)),np.array(W)), np.array(__X)))\n",
    "        inter = np.array(Y- np.transpose(np.array(Pi))).transpose()\n",
    "        num = np.matmul(np.transpose(np.array(__X)),(inter))\n",
    "        delta_beta = np.matmul(den, num)\n",
    "        #print('DB:>',delta_beta)\n",
    "        beta = beta + delta_beta\n",
    "        #print(\"Beta\", beta)\n",
    "        in_error = np.sum(delta_beta*delta_beta)\n",
    "        print(\"Error:\",in_error)\n",
    "    print('beta>', beta)\n",
    "    return beta"
   ]
  },
  {
   "cell_type": "markdown",
   "metadata": {},
   "source": [
    "# Comprobación:"
   ]
  },
  {
   "cell_type": "code",
   "execution_count": 185,
   "metadata": {},
   "outputs": [],
   "source": [
    "import numpy as np\n",
    "x = np.array(range(10)).reshape(10,1)"
   ]
  },
  {
   "cell_type": "code",
   "execution_count": 134,
   "metadata": {},
   "outputs": [
    {
     "data": {
      "text/plain": [
       "array([[0],\n",
       "       [1],\n",
       "       [2],\n",
       "       [3],\n",
       "       [4],\n",
       "       [5],\n",
       "       [6],\n",
       "       [7],\n",
       "       [8],\n",
       "       [9]])"
      ]
     },
     "execution_count": 134,
     "metadata": {},
     "output_type": "execute_result"
    }
   ],
   "source": [
    "x"
   ]
  },
  {
   "cell_type": "code",
   "execution_count": 135,
   "metadata": {},
   "outputs": [],
   "source": [
    "y = [0, 0, 0, 0, 1, 0, 1, 0 ,1, 1]"
   ]
  },
  {
   "cell_type": "code",
   "execution_count": 294,
   "metadata": {},
   "outputs": [],
   "source": [
    "bias = np.ones(10).reshape(10,1)\n",
    "__x = np.append(x, bias, axis = 1)"
   ]
  },
  {
   "cell_type": "code",
   "execution_count": null,
   "metadata": {},
   "outputs": [],
   "source": []
  },
  {
   "cell_type": "code",
   "execution_count": 277,
   "metadata": {},
   "outputs": [
    {
     "name": "stdout",
     "output_type": "stream",
     "text": [
      "Error: 5.777190082644626\n",
      "Error: 0.9940407075349076\n",
      "Error: 0.10600674406802137\n",
      "Error: 0.0007928351246008452\n",
      "beta> [[ 0.66217766]\n",
      " [-3.6953843 ]]\n"
     ]
    }
   ],
   "source": [
    "a = logistic_regression(x, y, 0.01)"
   ]
  },
  {
   "cell_type": "code",
   "execution_count": 303,
   "metadata": {},
   "outputs": [
    {
     "data": {
      "text/plain": [
       "-1.7037"
      ]
     },
     "execution_count": 303,
     "metadata": {},
     "output_type": "execute_result"
    }
   ],
   "source": [
    "0.6621*3 - 3.69"
   ]
  },
  {
   "cell_type": "code",
   "execution_count": 304,
   "metadata": {},
   "outputs": [
    {
     "data": {
      "text/plain": [
       "-1.04128936"
      ]
     },
     "execution_count": 304,
     "metadata": {},
     "output_type": "execute_result"
    }
   ],
   "source": [
    " 0.66217766*4-3.69"
   ]
  },
  {
   "cell_type": "markdown",
   "metadata": {},
   "source": [
    "# Comparar con el paquete Stats  de python"
   ]
  },
  {
   "cell_type": "code",
   "execution_count": 295,
   "metadata": {},
   "outputs": [],
   "source": [
    "import statsmodels.api as sm\n",
    "logmodel_STATS = sm.Logit(y, __x)"
   ]
  },
  {
   "cell_type": "code",
   "execution_count": 296,
   "metadata": {},
   "outputs": [
    {
     "name": "stdout",
     "output_type": "stream",
     "text": [
      "Optimization terminated successfully.\n",
      "         Current function value: 0.431012\n",
      "         Iterations 6\n"
     ]
    }
   ],
   "source": [
    "result = logmodel_STATS.fit()"
   ]
  },
  {
   "cell_type": "code",
   "execution_count": 298,
   "metadata": {},
   "outputs": [
    {
     "name": "stdout",
     "output_type": "stream",
     "text": [
      "                        Results: Logit\n",
      "===============================================================\n",
      "Model:              Logit            Pseudo R-squared: 0.360   \n",
      "Dependent Variable: y                AIC:              12.6202 \n",
      "Date:               2018-10-23 04:56 BIC:              13.2254 \n",
      "No. Observations:   10               Log-Likelihood:   -4.3101 \n",
      "Df Model:           1                LL-Null:          -6.7301 \n",
      "Df Residuals:       8                LLR p-value:      0.027807\n",
      "Converged:          1.0000           Scale:            1.0000  \n",
      "No. Iterations:     6.0000                                     \n",
      "-----------------------------------------------------------------\n",
      "          Coef.    Std.Err.      z      P>|z|     [0.025   0.975]\n",
      "-----------------------------------------------------------------\n",
      "x1        0.6622     0.4001    1.6551   0.0979   -0.1220   1.4464\n",
      "const    -3.6956     2.2889   -1.6145   0.1064   -8.1818   0.7906\n",
      "===============================================================\n",
      "\n"
     ]
    }
   ],
   "source": [
    "print(result.summary2())"
   ]
  },
  {
   "cell_type": "markdown",
   "metadata": {},
   "source": [
    "# Ejemplo con Scikit-learn"
   ]
  },
  {
   "cell_type": "code",
   "execution_count": 299,
   "metadata": {},
   "outputs": [
    {
     "data": {
      "text/plain": [
       "LogisticRegression(C=1.0, class_weight=None, dual=False, fit_intercept=True,\n",
       "          intercept_scaling=1, max_iter=100, multi_class='ovr', n_jobs=1,\n",
       "          penalty='l2', random_state=None, solver='liblinear', tol=0.0001,\n",
       "          verbose=0, warm_start=False)"
      ]
     },
     "execution_count": 299,
     "metadata": {},
     "output_type": "execute_result"
    }
   ],
   "source": [
    "from sklearn import linear_model\n",
    "logmodel_SCKT = linear_model.LogisticRegression()\n",
    "logmodel_SCKT.fit(__x, y)"
   ]
  },
  {
   "cell_type": "code",
   "execution_count": 300,
   "metadata": {},
   "outputs": [
    {
     "data": {
      "text/plain": [
       "0.7"
      ]
     },
     "execution_count": 300,
     "metadata": {},
     "output_type": "execute_result"
    }
   ],
   "source": [
    "logmodel_SCKT.score(__x,y)"
   ]
  },
  {
   "cell_type": "code",
   "execution_count": 301,
   "metadata": {},
   "outputs": [
    {
     "data": {
      "text/plain": [
       "0.6"
      ]
     },
     "execution_count": 301,
     "metadata": {},
     "output_type": "execute_result"
    }
   ],
   "source": [
    "1-y.mean()"
   ]
  },
  {
   "cell_type": "code",
   "execution_count": 302,
   "metadata": {},
   "outputs": [
    {
     "data": {
      "text/plain": [
       "array([[ 0.29204035, -0.72217924]])"
      ]
     },
     "execution_count": 302,
     "metadata": {},
     "output_type": "execute_result"
    }
   ],
   "source": [
    "logmodel_SCKT.coef_"
   ]
  },
  {
   "cell_type": "code",
   "execution_count": 4,
   "metadata": {},
   "outputs": [],
   "source": [
    "import numpy as np\n",
    "a = np.array([[1, 2], [1, 4]])"
   ]
  },
  {
   "cell_type": "code",
   "execution_count": 5,
   "metadata": {},
   "outputs": [
    {
     "data": {
      "text/plain": [
       "array([[1, 2],\n",
       "       [1, 4]])"
      ]
     },
     "execution_count": 5,
     "metadata": {},
     "output_type": "execute_result"
    }
   ],
   "source": [
    "a"
   ]
  },
  {
   "cell_type": "code",
   "execution_count": 6,
   "metadata": {},
   "outputs": [
    {
     "data": {
      "text/plain": [
       "(2, 2)"
      ]
     },
     "execution_count": 6,
     "metadata": {},
     "output_type": "execute_result"
    }
   ],
   "source": [
    "np.shape(a)"
   ]
  },
  {
   "cell_type": "code",
   "execution_count": 8,
   "metadata": {},
   "outputs": [
    {
     "data": {
      "text/plain": [
       "array([[1, 2, 1, 2],\n",
       "       [1, 4, 1, 4]])"
      ]
     },
     "execution_count": 8,
     "metadata": {},
     "output_type": "execute_result"
    }
   ],
   "source": [
    "np.append(a, a, axis=1)"
   ]
  },
  {
   "cell_type": "code",
   "execution_count": 9,
   "metadata": {},
   "outputs": [
    {
     "name": "stdout",
     "output_type": "stream",
     "text": [
      "0\n",
      "1\n",
      "2\n",
      "3\n",
      "4\n",
      "5\n",
      "6\n",
      "7\n",
      "8\n",
      "9\n"
     ]
    }
   ],
   "source": [
    "for i in range(0, 10):\n",
    "    print(i)"
   ]
  },
  {
   "cell_type": "code",
   "execution_count": null,
   "metadata": {},
   "outputs": [],
   "source": []
  }
 ],
 "metadata": {
  "kernelspec": {
   "display_name": "Python 3",
   "language": "python",
   "name": "python3"
  },
  "language_info": {
   "codemirror_mode": {
    "name": "ipython",
    "version": 3
   },
   "file_extension": ".py",
   "mimetype": "text/x-python",
   "name": "python",
   "nbconvert_exporter": "python",
   "pygments_lexer": "ipython3",
   "version": "3.6.4"
  }
 },
 "nbformat": 4,
 "nbformat_minor": 2
}
