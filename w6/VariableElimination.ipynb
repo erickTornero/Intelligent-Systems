{
 "cells": [
  {
   "cell_type": "markdown",
   "metadata": {},
   "source": [
    "# Implement variable elimination in the following model"
   ]
  },
  {
   "cell_type": "markdown",
   "metadata": {},
   "source": [
    "The Student Network"
   ]
  },
  {
   "cell_type": "markdown",
   "metadata": {},
   "source": [
    "![alt text](studentmodel.png)"
   ]
  },
  {
   "cell_type": "code",
   "execution_count": 293,
   "metadata": {},
   "outputs": [],
   "source": [
    "# The model in SamIam"
   ]
  },
  {
   "cell_type": "markdown",
   "metadata": {},
   "source": [
    "![alt text](samiam.png)"
   ]
  },
  {
   "cell_type": "code",
   "execution_count": 283,
   "metadata": {},
   "outputs": [],
   "source": [
    "# Define the product of two tables:"
   ]
  },
  {
   "cell_type": "code",
   "execution_count": 285,
   "metadata": {},
   "outputs": [],
   "source": [
    "dificulty = {0: 0.6, 1: 0.4}\n",
    "intelligence = {0: 0.7, 1: 0.3}\n",
    "sat = {0: {0: 0.95, 1:0.2}, 1: {0: 0.05, 1: 0.8}}\n",
    "grade = {1: {(0, 0): 0.3, (0, 1): 0.05, (1, 0): 0.9, (1,1):0.5}, 2: {(0, 0): 0.4, (0, 1): 0.25, (1, 0): 0.08, (1,1):0.3}, 3: {(0, 0): 0.3, (0, 1): 0.7, (1, 0): 0.02, (1,1):0.2}}"
   ]
  },
  {
   "cell_type": "code",
   "execution_count": null,
   "metadata": {},
   "outputs": [],
   "source": [
    "def multiply(A, idx_commA, B, idx_commB):\n",
    "    # (i, d, g, l)\n",
    "    for t in A:\n",
    "        n_i = A[t]*B[]"
   ]
  },
  {
   "cell_type": "code",
   "execution_count": 287,
   "metadata": {},
   "outputs": [],
   "source": [
    "grade = {(0,0,1):0.3, (0,0,2):0.4, (0,0,3):0.3, \n",
    "        (0,1,1):0.05, (0,1,2):0.25, (0,1,3):0.7,\n",
    "        (1,0,1): 0.9, (1,0,2):0.08, (1,0,3):0.02,\n",
    "        (1,1,1):0.5, (1,1,2):0.3, (1,1,3):0.2}"
   ]
  },
  {
   "cell_type": "code",
   "execution_count": 290,
   "metadata": {},
   "outputs": [],
   "source": [
    "intelligence = {(1, 0): 0.1, (1, 1):0.9, (2,0):0.4, (2,1):0.6,\n",
    "                (3,0):0.99, (3,1):0.01}"
   ]
  },
  {
   "cell_type": "code",
   "execution_count": 291,
   "metadata": {},
   "outputs": [
    {
     "data": {
      "text/plain": [
       "{(1, 0): 0.1,\n",
       " (1, 1): 0.9,\n",
       " (2, 0): 0.4,\n",
       " (2, 1): 0.6,\n",
       " (3, 0): 0.99,\n",
       " (3, 1): 0.01}"
      ]
     },
     "execution_count": 291,
     "metadata": {},
     "output_type": "execute_result"
    }
   ],
   "source": [
    "intelligence"
   ]
  },
  {
   "cell_type": "code",
   "execution_count": 292,
   "metadata": {},
   "outputs": [
    {
     "data": {
      "text/plain": [
       "{(0, 0, 1): 0.3,\n",
       " (0, 0, 2): 0.4,\n",
       " (0, 0, 3): 0.3,\n",
       " (0, 1, 1): 0.05,\n",
       " (0, 1, 2): 0.25,\n",
       " (0, 1, 3): 0.7,\n",
       " (1, 0, 1): 0.9,\n",
       " (1, 0, 2): 0.08,\n",
       " (1, 0, 3): 0.02,\n",
       " (1, 1, 1): 0.5,\n",
       " (1, 1, 2): 0.3,\n",
       " (1, 1, 3): 0.2}"
      ]
     },
     "execution_count": 292,
     "metadata": {},
     "output_type": "execute_result"
    }
   ],
   "source": [
    "grade"
   ]
  },
  {
   "cell_type": "code",
   "execution_count": null,
   "metadata": {},
   "outputs": [],
   "source": [
    "table = {}\n",
    "def product(A, B):\n",
    "    for i in B:\n",
    "        "
   ]
  },
  {
   "cell_type": "code",
   "execution_count": 276,
   "metadata": {},
   "outputs": [],
   "source": [
    "import numpy as np"
   ]
  },
  {
   "cell_type": "code",
   "execution_count": 279,
   "metadata": {},
   "outputs": [],
   "source": [
    "diffic = np.array([0.6, 0.4])\n",
    "intell = np.array([0.7, 0.3])\n",
    "sat = np.array([[0.95, 0.05],[0.2, 0.8]])\n",
    "grade = np.array([[0.3, 0.4, 0.3],[0.05, 0.25, 0.7],[0.9, 0.08, 0.02], [0.5, 0.3, 0.2]])\n",
    "letter = np.array([[0.1, 0.9],[0.4, 0.6], [0.99, 0.01]])"
   ]
  },
  {
   "cell_type": "code",
   "execution_count": 282,
   "metadata": {},
   "outputs": [
    {
     "data": {
      "text/plain": [
       "array([0.1, 0.9])"
      ]
     },
     "execution_count": 282,
     "metadata": {},
     "output_type": "execute_result"
    }
   ],
   "source": [
    "letter[0]"
   ]
  },
  {
   "cell_type": "code",
   "execution_count": 265,
   "metadata": {},
   "outputs": [],
   "source": [
    "dificulty = {0: 0.6, 1: 0.4}\n",
    "intelligence = {0: 0.7, 1: 0.3}\n",
    "sat = {0: {0: 0.95, 1:0.2}, 1: {0: 0.05, 1: 0.8}}\n",
    "grade = {1: {0}}"
   ]
  },
  {
   "cell_type": "code",
   "execution_count": 274,
   "metadata": {},
   "outputs": [],
   "source": [
    "tableSAT = {0:{}, 1:{}}\n",
    "for fromTab in intelligence:\n",
    "    for toTab in sat:\n",
    "        tableSAT[toTab][fromTab] = intelligence[fromTab]*sat[toTab][fromTab]"
   ]
  },
  {
   "cell_type": "code",
   "execution_count": 275,
   "metadata": {},
   "outputs": [
    {
     "data": {
      "text/plain": [
       "{0: {0: 0.6649999999999999, 1: 0.06}, 1: {0: 0.034999999999999996, 1: 0.24}}"
      ]
     },
     "execution_count": 275,
     "metadata": {},
     "output_type": "execute_result"
    }
   ],
   "source": [
    "tableSAT"
   ]
  },
  {
   "cell_type": "code",
   "execution_count": null,
   "metadata": {},
   "outputs": [],
   "source": [
    "tableG = {0:{}, 1:{}}\n",
    "for fromTab in intelligence:\n",
    "    for toTab in sat:\n",
    "        tableG[toTab][fromTab] = intelligence[fromTab]*sat[toTab][fromTab]"
   ]
  },
  {
   "cell_type": "code",
   "execution_count": 1,
   "metadata": {},
   "outputs": [],
   "source": [
    "myd = {}\n",
    "myd[0,1] = \"hola\""
   ]
  },
  {
   "cell_type": "code",
   "execution_count": 2,
   "metadata": {},
   "outputs": [
    {
     "data": {
      "text/plain": [
       "'hola'"
      ]
     },
     "execution_count": 2,
     "metadata": {},
     "output_type": "execute_result"
    }
   ],
   "source": [
    "myd[0,1]"
   ]
  },
  {
   "cell_type": "code",
   "execution_count": null,
   "metadata": {},
   "outputs": [],
   "source": [
    "class Node:\n",
    "    def __init__(self, classes = [], isRoot = False):\n",
    "        self.classes = classes\n",
    "        if isRoot:\n",
    "            self.table=[]\n",
    "        self.table = {}\n",
    "    def fillTables(self, indexes = [], data):\n",
    "        if len(indexes) == 1:\n",
    "            if isRoot:\n",
    "                self.table = data\n",
    "            else:\n",
    "                table[indexes[0]] = data\n",
    "        elif len(indexes) == 2:\n",
    "            table[indexes[0]][indexes[1]] = data\n",
    "    \n",
    "    "
   ]
  },
  {
   "cell_type": "code",
   "execution_count": 69,
   "metadata": {},
   "outputs": [],
   "source": [
    "class Node:\n",
    "    def __init__(self, states, patterns):\n",
    "        self.states = states\n",
    "        self.patterns = patterns\n",
    "        self.table = {}\n",
    "        self.currentState = 0\n",
    "    def pushInTable(self, data, indexes):\n",
    "        if len(self.patterns) > 0:\n",
    "            n_inputs = len(self.patterns)\n",
    "            if n_inputs == 1:\n",
    "                self.table[indexes[0]] = data\n",
    "            elif n_inputs == 2:\n",
    "                #print(indexes)\n",
    "                self.table[(indexes[0],indexes[1])] = data\n",
    "        else:\n",
    "            self.table = data"
   ]
  },
  {
   "cell_type": "code",
   "execution_count": 236,
   "metadata": {},
   "outputs": [],
   "source": [
    "class Graph:\n",
    "    def __init__(self, nodes = {}):\n",
    "        self.nodes = nodes\n",
    "        self.evidences = {}\n",
    "        self.querys = set()\n",
    "        self.hidden = set()\n",
    "        self.conjunt = set()\n",
    "    def addNode(self, name, states, patterns = []):\n",
    "        self.nodes[name] = Node(states, patterns)\n",
    "        self.conjunt.add(name)\n",
    "        #self.nodes.append(Node(states, patterns))\n",
    "    def addData(self, name, data, ind = []):\n",
    "        self.nodes[name].pushInTable(data, indexes = ind)\n",
    "    \n",
    "    def setEvidence(self, name, state_idx):\n",
    "        self.evidences[name] = state_idx\n",
    "    def setQueries(self, name):\n",
    "        self.querys.add(name)\n",
    "    \n",
    "    def setHidden(self):\n",
    "        if self.querys.isdisjoint(set(self.evidences)):\n",
    "            self.hidden = self.conjunt - set(self.evidences) - self.querys\n",
    "        else:\n",
    "            print(\"Error, Evidence set & Query Set are not disjoint, please Check!\\n\")\n",
    "        \n",
    "    def StractStates(self, name, querystate):\n",
    "        states = []\n",
    "        if name in self.evidences:\n",
    "            states.append(self.evidences[name])\n",
    "        elif name in self.hidden:\n",
    "            states = self.nodes[name].states\n",
    "        elif name in self.querys:\n",
    "            states.append(querystate)\n",
    "        \n",
    "        return states\n",
    "\n",
    "    def RunVariableElimination(self, stateQuery = 0):\n",
    "        ## For the moment it formula just will work with 1 node as Query.\n",
    "        # Hidden are factors:\n",
    "        \n",
    "        \n",
    "        f = self.StractStates('Difficult', stateQuery)\n",
    "        print(f)\n",
    "        for d in f:\n",
    "            self.nodes['Difficult'].currentstate = d\n",
    "            prob *= self.nodes['Difficult'].table[d]\n",
    "            f1 = self.StractStates('Intelligence', stateQuery)\n",
    "            for d1 in f1:\n",
    "                self.nodes['Intelligence'].currentstate = d1\n",
    "                prob *= self.nodes['Intelligence'].table[d1]\n",
    "                f2 = self.StractStates('SAT', stateQuery)\n",
    "                for d2 in f2:\n",
    "                    self.nodes['SAT'].currentstate = d2\n",
    "                    prob *= self.nodes['SAT'].table[self.nodes['Intelligence'].currentstate][d2]\n",
    "                    f3 = self.StractStates('Grades', stateQuery)\n",
    "                    for d3 in f3:\n",
    "                        self.nodes['Grade'].currentstate = d3\n",
    "                        prob *= self.nodes['Grade'].table[(self.nodes['Difficult'].currentstate ,self.nodes['Intelligence'].currentstate)][d3]\n",
    "                        f4 = self.StractStates('Letter', stateQuery)\n",
    "                        for d4 in f4:\n",
    "                            prob *= self.nodes['Letter'].table[self.nodes['Grade'].currentstate][d4]\n",
    "        return prob\n",
    "            \n",
    "        \n",
    "    \n"
   ]
  },
  {
   "cell_type": "markdown",
   "metadata": {},
   "source": [
    "### Create a Graphical Model"
   ]
  },
  {
   "cell_type": "code",
   "execution_count": 237,
   "metadata": {},
   "outputs": [],
   "source": [
    "graph = Graph()"
   ]
  },
  {
   "cell_type": "code",
   "execution_count": 238,
   "metadata": {},
   "outputs": [],
   "source": [
    "# Define the node Difficult\n",
    "graph.addNode('Difficult', states = [0, 1])"
   ]
  },
  {
   "cell_type": "code",
   "execution_count": 239,
   "metadata": {},
   "outputs": [],
   "source": [
    "graph.addData('Difficult', data = [0.6, 0.4])"
   ]
  },
  {
   "cell_type": "code",
   "execution_count": 240,
   "metadata": {},
   "outputs": [],
   "source": [
    "# Define the node Intelligence\n",
    "graph.addNode('Intelligence', states = [0, 1])"
   ]
  },
  {
   "cell_type": "code",
   "execution_count": 241,
   "metadata": {},
   "outputs": [],
   "source": [
    "graph.addData('Intelligence', data = [0.7, 0.3])"
   ]
  },
  {
   "cell_type": "code",
   "execution_count": 242,
   "metadata": {},
   "outputs": [],
   "source": [
    "# Define the node SAT\n",
    "graph.addNode('SAT', states = [0, 1], patterns=[graph.nodes['Intelligence']])"
   ]
  },
  {
   "cell_type": "code",
   "execution_count": 243,
   "metadata": {},
   "outputs": [],
   "source": [
    "graph.addData('SAT', ind=[0], data=[0.95, 0.05])\n",
    "graph.addData('SAT', ind=[1], data=[0.2, 0.8])"
   ]
  },
  {
   "cell_type": "code",
   "execution_count": 244,
   "metadata": {},
   "outputs": [],
   "source": [
    "# Define the node Grades:\n",
    "graph.addNode('Grade', states = [0, 1, 2], patterns=[graph.nodes['Difficult'], graph.nodes['Intelligence']])"
   ]
  },
  {
   "cell_type": "code",
   "execution_count": 245,
   "metadata": {},
   "outputs": [],
   "source": [
    "graph.addData('Grade', data = [0.3, 0.4, 0.3],ind = [0, 0])\n",
    "graph.addData('Grade', data = [0.05, 0.25, 0.7],ind = [0, 1])\n",
    "graph.addData('Grade', data = [0.9, 0.08, 0.02],ind = [1, 0])\n",
    "graph.addData('Grade', data = [0.5, 0.3, 0.2],ind = [1, 1])"
   ]
  },
  {
   "cell_type": "code",
   "execution_count": 246,
   "metadata": {},
   "outputs": [
    {
     "data": {
      "text/plain": [
       "{(0, 0): [0.3, 0.4, 0.3],\n",
       " (0, 1): [0.05, 0.25, 0.7],\n",
       " (1, 0): [0.9, 0.08, 0.02],\n",
       " (1, 1): [0.5, 0.3, 0.2]}"
      ]
     },
     "execution_count": 246,
     "metadata": {},
     "output_type": "execute_result"
    }
   ],
   "source": [
    "graph.nodes['Grade'].table"
   ]
  },
  {
   "cell_type": "code",
   "execution_count": null,
   "metadata": {},
   "outputs": [],
   "source": []
  },
  {
   "cell_type": "code",
   "execution_count": 247,
   "metadata": {},
   "outputs": [],
   "source": [
    "# Define the node Letter\n",
    "graph.addNode('Letter', states = [0, 1], patterns = [graph.nodes['Grade']])"
   ]
  },
  {
   "cell_type": "code",
   "execution_count": 248,
   "metadata": {},
   "outputs": [],
   "source": [
    "graph.addData('Letter', data = [0.1, 0.9], ind = [0])\n",
    "graph.addData('Letter', data = [0.4, 0.6], ind = [1])\n",
    "graph.addData('Letter', data = [0.99, 0.01], ind = [2])"
   ]
  },
  {
   "cell_type": "code",
   "execution_count": 249,
   "metadata": {},
   "outputs": [
    {
     "data": {
      "text/plain": [
       "{0: [0.1, 0.9], 1: [0.4, 0.6], 2: [0.99, 0.01]}"
      ]
     },
     "execution_count": 249,
     "metadata": {},
     "output_type": "execute_result"
    }
   ],
   "source": [
    "graph.nodes['Letter'].table"
   ]
  },
  {
   "cell_type": "code",
   "execution_count": 250,
   "metadata": {},
   "outputs": [
    {
     "data": {
      "text/plain": [
       "{(0, 0): [0.3, 0.4, 0.3],\n",
       " (0, 1): [0.05, 0.25, 0.7],\n",
       " (1, 0): [0.9, 0.08, 0.02],\n",
       " (1, 1): [0.5, 0.3, 0.2]}"
      ]
     },
     "execution_count": 250,
     "metadata": {},
     "output_type": "execute_result"
    }
   ],
   "source": [
    "graph.nodes['Grade'].table"
   ]
  },
  {
   "cell_type": "code",
   "execution_count": 251,
   "metadata": {},
   "outputs": [
    {
     "data": {
      "text/plain": [
       "{0: [0.1, 0.9], 1: [0.4, 0.6], 2: [0.99, 0.01]}"
      ]
     },
     "execution_count": 251,
     "metadata": {},
     "output_type": "execute_result"
    }
   ],
   "source": [
    "graph.nodes['Letter'].table"
   ]
  },
  {
   "cell_type": "code",
   "execution_count": 252,
   "metadata": {},
   "outputs": [],
   "source": [
    "graph.setEvidence('SAT', 1)"
   ]
  },
  {
   "cell_type": "code",
   "execution_count": 253,
   "metadata": {},
   "outputs": [],
   "source": [
    "graph.setQueries('Intelligence')"
   ]
  },
  {
   "cell_type": "code",
   "execution_count": 254,
   "metadata": {},
   "outputs": [],
   "source": [
    "graph.setHidden()"
   ]
  },
  {
   "cell_type": "code",
   "execution_count": 255,
   "metadata": {},
   "outputs": [
    {
     "name": "stdout",
     "output_type": "stream",
     "text": [
      "[0, 1]\n"
     ]
    },
    {
     "data": {
      "text/plain": [
       "0.00029400000000000004"
      ]
     },
     "execution_count": 255,
     "metadata": {},
     "output_type": "execute_result"
    }
   ],
   "source": [
    "graph.RunVariableElimination()"
   ]
  },
  {
   "cell_type": "code",
   "execution_count": 257,
   "metadata": {},
   "outputs": [
    {
     "name": "stdout",
     "output_type": "stream",
     "text": [
      "[0, 1]\n"
     ]
    },
    {
     "data": {
      "text/plain": [
       "0.013824000000000001"
      ]
     },
     "execution_count": 257,
     "metadata": {},
     "output_type": "execute_result"
    }
   ],
   "source": [
    "graph.RunVariableElimination(1)"
   ]
  },
  {
   "cell_type": "code",
   "execution_count": 258,
   "metadata": {},
   "outputs": [
    {
     "data": {
      "text/plain": [
       "0.9791755206119848"
      ]
     },
     "execution_count": 258,
     "metadata": {},
     "output_type": "execute_result"
    }
   ],
   "source": [
    "0.013824/(0.000294+0.013824)"
   ]
  },
  {
   "cell_type": "code",
   "execution_count": 259,
   "metadata": {},
   "outputs": [],
   "source": [
    "graph.evidences={'Letter':1, 'SAT':1}"
   ]
  },
  {
   "cell_type": "code",
   "execution_count": 260,
   "metadata": {},
   "outputs": [],
   "source": [
    "graph.querys={'Intelligence'}"
   ]
  },
  {
   "cell_type": "code",
   "execution_count": 261,
   "metadata": {},
   "outputs": [],
   "source": [
    "graph.setHidden()"
   ]
  },
  {
   "cell_type": "code",
   "execution_count": 262,
   "metadata": {},
   "outputs": [
    {
     "data": {
      "text/plain": [
       "{'Difficult', 'Grade'}"
      ]
     },
     "execution_count": 262,
     "metadata": {},
     "output_type": "execute_result"
    }
   ],
   "source": [
    "graph.hidden"
   ]
  },
  {
   "cell_type": "code",
   "execution_count": 263,
   "metadata": {},
   "outputs": [
    {
     "name": "stdout",
     "output_type": "stream",
     "text": [
      "[0, 1]\n"
     ]
    },
    {
     "data": {
      "text/plain": [
       "0.00029400000000000004"
      ]
     },
     "execution_count": 263,
     "metadata": {},
     "output_type": "execute_result"
    }
   ],
   "source": [
    "graph.RunVariableElimination(0)"
   ]
  },
  {
   "cell_type": "code",
   "execution_count": 264,
   "metadata": {},
   "outputs": [
    {
     "name": "stdout",
     "output_type": "stream",
     "text": [
      "[0, 1]\n"
     ]
    },
    {
     "data": {
      "text/plain": [
       "0.013824000000000001"
      ]
     },
     "execution_count": 264,
     "metadata": {},
     "output_type": "execute_result"
    }
   ],
   "source": [
    "graph.RunVariableElimination(1)"
   ]
  },
  {
   "cell_type": "code",
   "execution_count": 20,
   "metadata": {},
   "outputs": [
    {
     "data": {
      "text/plain": [
       "{1}"
      ]
     },
     "execution_count": 20,
     "metadata": {},
     "output_type": "execute_result"
    }
   ],
   "source": [
    "a"
   ]
  },
  {
   "cell_type": "code",
   "execution_count": null,
   "metadata": {},
   "outputs": [],
   "source": []
  }
 ],
 "metadata": {
  "kernelspec": {
   "display_name": "Python 3",
   "language": "python",
   "name": "python3"
  },
  "language_info": {
   "codemirror_mode": {
    "name": "ipython",
    "version": 3
   },
   "file_extension": ".py",
   "mimetype": "text/x-python",
   "name": "python",
   "nbconvert_exporter": "python",
   "pygments_lexer": "ipython3",
   "version": "3.6.4"
  }
 },
 "nbformat": 4,
 "nbformat_minor": 2
}
