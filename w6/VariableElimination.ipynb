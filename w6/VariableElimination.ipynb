{
 "cells": [
  {
   "cell_type": "markdown",
   "metadata": {},
   "source": [
    "# Implement variable elimination in the following model"
   ]
  },
  {
   "cell_type": "markdown",
   "metadata": {},
   "source": [
    "The Student Network"
   ]
  },
  {
   "cell_type": "markdown",
   "metadata": {},
   "source": [
    "![alt text](studentmodel.png)"
   ]
  },
  {
   "cell_type": "code",
   "execution_count": 2,
   "metadata": {},
   "outputs": [],
   "source": [
    "myd = {}\n",
    "myd[0,1] = \"hola\""
   ]
  },
  {
   "cell_type": "code",
   "execution_count": 4,
   "metadata": {},
   "outputs": [
    {
     "data": {
      "text/plain": [
       "'hola'"
      ]
     },
     "execution_count": 4,
     "metadata": {},
     "output_type": "execute_result"
    }
   ],
   "source": [
    "myd[0,1]"
   ]
  },
  {
   "cell_type": "code",
   "execution_count": null,
   "metadata": {},
   "outputs": [],
   "source": [
    "class Node:\n",
    "    def __init__(self, classes = [], isRoot = False):\n",
    "        self.classes = classes\n",
    "        if isRoot:\n",
    "            self.table=[]\n",
    "        self.table = {}\n",
    "    def fillTables(self, indexes = [], data):\n",
    "        if len(indexes) == 1:\n",
    "            if isRoot:\n",
    "                self.table = data\n",
    "            else:\n",
    "                table[indexes[0]] = data\n",
    "        elif len(indexes) == 2:\n",
    "            table[indexes[0]][indexes[1]] = data\n",
    "    \n",
    "    "
   ]
  },
  {
   "cell_type": "code",
   "execution_count": 88,
   "metadata": {},
   "outputs": [],
   "source": [
    "class Node:\n",
    "    def __init__(self, states, patterns):\n",
    "        self.states = states\n",
    "        self.patterns = patterns\n",
    "        self.table = {}\n",
    "    def pushInTable(self, data, indexes):\n",
    "        if len(self.patterns) > 0:\n",
    "            n_inputs = len(self.patterns)\n",
    "            if n_inputs == 1:\n",
    "                self.table[indexes[0]] = data\n",
    "            elif n_inputs == 2:\n",
    "                #print(indexes)\n",
    "                self.table[(indexes[0],indexes[1])] = data\n",
    "        else:\n",
    "            self.table = data"
   ]
  },
  {
   "cell_type": "code",
   "execution_count": 89,
   "metadata": {},
   "outputs": [],
   "source": [
    "class Graph:\n",
    "    def __init__(self, nodes = {}):\n",
    "        self.nodes = nodes\n",
    "        self.evidences = {}\n",
    "    def addNode(self, name, states, patterns = []):\n",
    "        self.nodes[name] = Node(states, patterns)\n",
    "        #self.nodes.append(Node(states, patterns))\n",
    "    def addData(self, name, data, ind = []):\n",
    "        self.nodes[name].pushInTable(data, indexes = ind)\n",
    "    \n",
    "    def setEvidence(self, name, state_idx):\n",
    "        self.evidences[name] = state_idx\n",
    "        self.RunVariableElimination()\n",
    "        \n",
    "    def RunVariableElimination(self):\n",
    "        ## Apply Formula:\n",
    "        s = 0\n",
    "        for "
   ]
  },
  {
   "cell_type": "markdown",
   "metadata": {},
   "source": [
    "### Create a Graphical Model"
   ]
  },
  {
   "cell_type": "code",
   "execution_count": 90,
   "metadata": {},
   "outputs": [],
   "source": [
    "graph = Graph()"
   ]
  },
  {
   "cell_type": "code",
   "execution_count": 91,
   "metadata": {},
   "outputs": [],
   "source": [
    "# Define the node Difficult\n",
    "graph.addNode('Difficult', states = [0, 1])"
   ]
  },
  {
   "cell_type": "code",
   "execution_count": 92,
   "metadata": {},
   "outputs": [],
   "source": [
    "graph.addData('Difficult', data = [0.6, 0.4])"
   ]
  },
  {
   "cell_type": "code",
   "execution_count": 93,
   "metadata": {},
   "outputs": [],
   "source": [
    "# Define the node Intelligence\n",
    "graph.addNode('Intelligence', states = [0, 1])"
   ]
  },
  {
   "cell_type": "code",
   "execution_count": 94,
   "metadata": {},
   "outputs": [],
   "source": [
    "graph.addData('Intelligence', data = [0.7, 0.3])"
   ]
  },
  {
   "cell_type": "code",
   "execution_count": 95,
   "metadata": {},
   "outputs": [],
   "source": [
    "# Define the node SAT\n",
    "graph.addNode('SAT', states = [0, 1], patterns=[graph.nodes['Intelligence']])"
   ]
  },
  {
   "cell_type": "code",
   "execution_count": 96,
   "metadata": {},
   "outputs": [],
   "source": [
    "graph.addData('SAT', ind=[0], data=[0.95, 0.05])\n",
    "graph.addData('SAT', ind=[1], data=[0.2, 0.8])"
   ]
  },
  {
   "cell_type": "code",
   "execution_count": 97,
   "metadata": {},
   "outputs": [],
   "source": [
    "# Define the node Grades:\n",
    "graph.addNode('Grade', states = [0, 1, 2], patterns=[graph.nodes['Difficult'], graph.nodes['Intelligence']])"
   ]
  },
  {
   "cell_type": "code",
   "execution_count": 98,
   "metadata": {},
   "outputs": [],
   "source": [
    "graph.addData('Grade', data = [0.3, 0.4, 0.3],ind = [0, 0])\n",
    "graph.addData('Grade', data = [0.05, 0.25, 0.7],ind = [0, 1])\n",
    "graph.addData('Grade', data = [0.9, 0.08, 0.02],ind = [1, 0])\n",
    "graph.addData('Grade', data = [0.5, 0.3, 0.2],ind = [1, 1])"
   ]
  },
  {
   "cell_type": "code",
   "execution_count": 100,
   "metadata": {},
   "outputs": [
    {
     "data": {
      "text/plain": [
       "{(0, 0): [0.3, 0.4, 0.3],\n",
       " (0, 1): [0.05, 0.25, 0.7],\n",
       " (1, 0): [0.9, 0.08, 0.02],\n",
       " (1, 1): [0.5, 0.3, 0.2]}"
      ]
     },
     "execution_count": 100,
     "metadata": {},
     "output_type": "execute_result"
    }
   ],
   "source": [
    "graph.nodes['Grade'].table"
   ]
  },
  {
   "cell_type": "code",
   "execution_count": 102,
   "metadata": {},
   "outputs": [],
   "source": [
    "# Define the node Letter\n",
    "graph.addNode('Letter', states = [0, 1], patterns = [graph.nodes['Grade']])"
   ]
  },
  {
   "cell_type": "code",
   "execution_count": 103,
   "metadata": {},
   "outputs": [],
   "source": [
    "graph.addData('Letter', data = [0.1, 0.9], ind = [0])\n",
    "graph.addData('Letter', data = [0.4, 0.6], ind = [1])\n",
    "graph.addData('Letter', data = [0.99, 0.01], ind = [2])"
   ]
  },
  {
   "cell_type": "code",
   "execution_count": 104,
   "metadata": {},
   "outputs": [
    {
     "data": {
      "text/plain": [
       "{0: [0.1, 0.9], 1: [0.4, 0.6], 2: [0.99, 0.01]}"
      ]
     },
     "execution_count": 104,
     "metadata": {},
     "output_type": "execute_result"
    }
   ],
   "source": [
    "graph.nodes['Letter'].table"
   ]
  },
  {
   "cell_type": "code",
   "execution_count": null,
   "metadata": {},
   "outputs": [],
   "source": []
  }
 ],
 "metadata": {
  "kernelspec": {
   "display_name": "Python 3",
   "language": "python",
   "name": "python3"
  },
  "language_info": {
   "codemirror_mode": {
    "name": "ipython",
    "version": 3
   },
   "file_extension": ".py",
   "mimetype": "text/x-python",
   "name": "python",
   "nbconvert_exporter": "python",
   "pygments_lexer": "ipython3",
   "version": "3.6.5"
  }
 },
 "nbformat": 4,
 "nbformat_minor": 2
}
