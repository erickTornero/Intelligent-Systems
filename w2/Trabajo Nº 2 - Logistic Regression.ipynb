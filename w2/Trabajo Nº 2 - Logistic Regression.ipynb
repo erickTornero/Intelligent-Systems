{
 "cells": [
  {
   "cell_type": "code",
   "execution_count": 24,
   "metadata": {},
   "outputs": [],
   "source": [
    "# Work 2:\n",
    "# Author: Erick Tornero\n",
    "# Sentiment prediction"
   ]
  },
  {
   "cell_type": "markdown",
   "metadata": {},
   "source": [
    "# Definición de función de procesado de texto:\n",
    "\n",
    "Esta funciona ayuda en la limpieza de cada **review**, eliminando los siguientes caracteres del texto y dejando solo las palabras en minúscula: \n",
    "\n",
    "* [., :, ;, ', \", (, ), [, ]]\n",
    "\n",
    "Reemplaza los siguientes caracteres por espacios:\n",
    "* <br ../> <br\\ .../> , -, /"
   ]
  },
  {
   "cell_type": "code",
   "execution_count": 1,
   "metadata": {},
   "outputs": [],
   "source": [
    "# Return a lower case proccesed text\n",
    "def processtext(texto):\n",
    "    import re\n",
    "    REPLACE_NO_SPACE = re.compile(\"(\\.)|(\\;)|(\\:)|(\\')|(\\?)|(\\,)|(\\\")|(\\!)|(\\()|(\\))|(\\[)|(\\])|(\\n)\")\n",
    "    REPLACE_WITH_SPACE = re.compile(\"(<br\\s*/><br\\s*/>)|(\\-)|(\\/)\")\n",
    "    texto = REPLACE_NO_SPACE.sub('', texto.lower())\n",
    "    texto = REPLACE_WITH_SPACE.sub(' ', texto)\n",
    "    return texto"
   ]
  },
  {
   "cell_type": "markdown",
   "metadata": {},
   "source": [
    "# Obtención de características\n",
    "Las características a utilizar se han escogido en base a un previo análisis, donde se eligieron **10** en base a su correlación con el tipo de *review*"
   ]
  },
  {
   "cell_type": "markdown",
   "metadata": {},
   "source": [
    "## x2, x2: Feature \\#1, Feature \\#2:\n",
    "* Number of positive words: \n",
    "Getted by a file *txt* where words 're clasified as a positive word, It is represented by Positive and negative dictionary"
   ]
  },
  {
   "cell_type": "code",
   "execution_count": 3,
   "metadata": {},
   "outputs": [],
   "source": [
    "# Input: \n",
    "# texto_dividido: a text splitted as a List of Words\n",
    "# posneg_dict: Positive and negative dictionary\n",
    "\n",
    "# Output:\n",
    "# COUNT_POSITIVE: # Of positive words according to the dictionary\n",
    "# COUNT_NEGATIVE: # Of negative words according to the dictionary\n",
    "def getPositiveNegativeCountWords(texto_dividido, posneg_dictionary):\n",
    "        # Count the positive words\n",
    "    COUNT_POSITIVE = 0\n",
    "    COUNT_NEGATIVE = 0\n",
    "    for word in texto_dividido:\n",
    "        try:\n",
    "            val = posneg_dictionary[word]\n",
    "            if val == 1:\n",
    "                COUNT_POSITIVE = COUNT_POSITIVE + 1\n",
    "            elif val == 0:\n",
    "                COUNT_NEGATIVE = COUNT_NEGATIVE + 1\n",
    "\n",
    "        except KeyError:\n",
    "            pass\n",
    "    \n",
    "    return (float(COUNT_POSITIVE), float(COUNT_NEGATIVE))"
   ]
  },
  {
   "cell_type": "markdown",
   "metadata": {},
   "source": [
    "## x3: Feature #3>\n",
    "* Is **NO** or **neither** word there?"
   ]
  },
  {
   "cell_type": "code",
   "execution_count": 4,
   "metadata": {},
   "outputs": [],
   "source": [
    "# Input:\n",
    "# texto: a string text.\n",
    "\n",
    "# Output\n",
    "# 1.0 if 'NO' or 'NEITHER' word is contained\n",
    "# 0.0 in the other case\n",
    "def isNoThere(texto):\n",
    "    import re\n",
    "    NO_VARS = [r'\\bno\\b',r'\\bneither\\b']\n",
    "    L_NO = [re.findall(neg, texto) for neg in NO_VARS]\n",
    "    le = 0\n",
    "    for ll in L_NO:\n",
    "        le = le+len(ll)\n",
    "    if(le > 0):\n",
    "        return float(1.0)\n",
    "    else:\n",
    "        return float(0.0)"
   ]
  },
  {
   "cell_type": "markdown",
   "metadata": {},
   "source": [
    "## x4: Feature \\#4:\n",
    "* Number of Extremely positive words.\n",
    "\n",
    "## x5: Feature \\#5:\n",
    "* If a Extremely positive word is contained in text"
   ]
  },
  {
   "cell_type": "code",
   "execution_count": 6,
   "metadata": {},
   "outputs": [],
   "source": [
    "# Input:\n",
    "# texto: A single text\n",
    "\n",
    "# Output:\n",
    "# Tuple (x4, x5)\n",
    "\n",
    "# Observations\n",
    "# The words was selected throw an analysis of frequency,\n",
    "# this analisys is given in the other Jupyter Notebook called: AnalysisFeatures\n",
    "def isExtrmPosWordsThere(texto):\n",
    "    import re\n",
    "    #POS_VARS = [r'\\bexceptional\\b',r'superlative\\b',r'wonderful',r'exemplary',r'\\benjoy\\b',r'amazing',r'\\benjoyable\\b',r'\\bexcellent\\b']\n",
    "    POS_VARS = [r'excellent',r'superb',r'fantastic',r'wonderful',r'captures',r'terrific',r'beautifully',r'delight',r'outstanding',r'brilliantly',r'friendship',r'finest',r'touching',r'magnificent',r'underrated']\n",
    "    L_POS = [re.findall(pos, texto) for pos in POS_VARS]\n",
    "    le = 0\n",
    "    for ll in L_POS:\n",
    "        le = le+len(ll)\n",
    "    if(le > 0):\n",
    "        return (float(le), float(1.0))\n",
    "    else:\n",
    "        return (float(le), float(0.0))"
   ]
  },
  {
   "cell_type": "markdown",
   "metadata": {},
   "source": [
    "## x6: Feature \\#6:\n",
    "* Number of Extremely negative words.\n",
    "\n",
    "## x7: Feature \\#7:\n",
    "* If a Extremely negative word is contained in text"
   ]
  },
  {
   "cell_type": "code",
   "execution_count": 8,
   "metadata": {},
   "outputs": [],
   "source": [
    "# Input:\n",
    "# texto: A single text\n",
    "\n",
    "# Output:\n",
    "# Tuple (x6, x7)\n",
    "\n",
    "# Observations\n",
    "# The words was selected throw an analysis of frequency,\n",
    "# this analisys is given in the other Jupyter Notebook called: AnalysisFeatures\n",
    "def isExtrmNegativeWordThere(texto):\n",
    "    import re\n",
    "    #POS_VARS = [r'poor', r'mediocre',r'awful',r'\\bugh\\b',r'avoid this one',r'dont watch',r'so bad',r'waste of time',r'suck',r'save yourself',r'minute']\n",
    "    POS_VARS = [r'unimaginative',r'atrocious',r'\\bdreck\\b',r'drivel',r'camcorder',r'\\bugh\\b',r'unfunny',r'\\b\\*1\\b',r'uwe',r'boll',r'mst3k',r'stinker',r'redeeming',r'pathetic',r'pointless',r'\\bbad',r'\\bdumb\\b',r'annoying',r'ridiculous',r'fails',r'boring',r'avoid',r'dull',r'stupid',r'\\bmess\\b',r'worse',r'\\bcrap\\b',r'horrible',r'terrible',r'waste',r'lame',r'\\bpoor',r'awful',r'worst']\n",
    "    L_POS = [re.findall(pos, texto) for pos in POS_VARS]\n",
    "    le = 0\n",
    "    for ll in L_POS:\n",
    "        le = le+len(ll)\n",
    "    if(le > 0):\n",
    "        return (float(le), float(1.0))\n",
    "    else:\n",
    "        return (float(le), float(0.0))"
   ]
  },
  {
   "cell_type": "markdown",
   "metadata": {},
   "source": [
    "# Chargue full dictionary"
   ]
  },
  {
   "cell_type": "code",
   "execution_count": 9,
   "metadata": {},
   "outputs": [],
   "source": [
    "# Chargue a dictionary of all posible words with positive & negative words\n",
    "# Return a dictionary\n",
    "def chargeDictionariPosNeg():\n",
    "    posneg_dictionary = {}\n",
    "    # Charge positive file of words to dictionary\n",
    "    with open('goodbad/positive-words.txt','r') as fichero:\n",
    "        import re\n",
    "        for lin in fichero:\n",
    "            if('a+' in lin):\n",
    "                break\n",
    "        for lin in fichero:\n",
    "            if(' ' not in lin):\n",
    "                posneg_dictionary[re.sub('\\n','',lin)] = 1\n",
    "                \n",
    "    # Charge negative file of words to dictionary\n",
    "    with open('goodbad/negative-words.txt','r') as fichero:\n",
    "        import re\n",
    "        for lin in fichero:\n",
    "            if('2-faces' in lin):\n",
    "                break\n",
    "        for lin in fichero:\n",
    "            if(' ' not in lin):\n",
    "                posneg_dictionary[re.sub('\\n','',lin)] = 0\n",
    "    \n",
    "    return posneg_dictionary"
   ]
  },
  {
   "cell_type": "markdown",
   "metadata": {},
   "source": [
    "# Extrall full features\n",
    "\n",
    "Seven Features was defined for each **review**:\n",
    "* x1: Number of positive words by dictionary\n",
    "* x2: Number of Negative words by dictionary\n",
    "* x3: If *NO* or *NEITHER* word is in text\n",
    "* x4: Number of Extremely Positive words is in the text \n",
    "* x5: If a Extremely word is defined in the text\n",
    "* x6: Number of Extremely Negative words is in the text\n",
    "* x7 If a Extremely Negative word ins in the text"
   ]
  },
  {
   "cell_type": "code",
   "execution_count": 11,
   "metadata": {},
   "outputs": [],
   "source": [
    "# Output: Return the dictionary\n",
    "def chargeDictionariPosNeg():\n",
    "    posneg_dictionary = {}\n",
    "    # Charge positive file of words to dictionary\n",
    "    with open('goodbad/positive-words.txt','r') as fichero:\n",
    "        import re\n",
    "        for lin in fichero:\n",
    "            if('a+' in lin):\n",
    "                break\n",
    "        for lin in fichero:\n",
    "            if(' ' not in lin):\n",
    "                posneg_dictionary[re.sub('\\n','',lin)] = 1\n",
    "                \n",
    "    # Charge negative file of words to dictionary\n",
    "    with open('goodbad/negative-words.txt','r') as fichero:\n",
    "        import re\n",
    "        for lin in fichero:\n",
    "            if('2-faces' in lin):\n",
    "                break\n",
    "        for lin in fichero:\n",
    "            if(' ' not in lin):\n",
    "                posneg_dictionary[re.sub('\\n','',lin)] = 0\n",
    "    \n",
    "    return posneg_dictionary"
   ]
  },
  {
   "cell_type": "markdown",
   "metadata": {},
   "source": [
    "# Getting table of Features"
   ]
  },
  {
   "cell_type": "code",
   "execution_count": 13,
   "metadata": {},
   "outputs": [],
   "source": [
    "# Define a dictionary to \n",
    "# charge on it, the positive & negative words\n",
    "dictionary = chargeDictionariPosNeg()"
   ]
  },
  {
   "cell_type": "code",
   "execution_count": 17,
   "metadata": {},
   "outputs": [],
   "source": [
    "# Define a function to extract all features and return\n",
    "# a tuple of Features defined before\n",
    "def extract_features(texto, dictionary):\n",
    "    import re\n",
    "    texto = processtext(texto)\n",
    "    texto_dividido = re.split(' ', texto)\n",
    "    x1, x2 = getPositiveNegativeCountWords(texto_dividido, dictionary)\n",
    "    x3 = isNoThere(texto)\n",
    "    #x4 = numberpronouns(texto)\n",
    "    #x5 = isExclamationThere(texto)\n",
    "    #x6 = getLnNumberWords(texto_dividido)\n",
    "    #x7 = isSmileFaceThere(texto)\n",
    "    x4, x5 = isExtrmPosWordsThere(texto)\n",
    "    x6, x7 = isExtrmNegativeWordThere(texto)\n",
    "    return {'x1':x1, 'x2':x2, 'x3':x3, 'x4':x4,'x5':x5,'x6':x6, 'x7':x7}"
   ]
  },
  {
   "cell_type": "markdown",
   "metadata": {},
   "source": [
    "* Example of Feature extraction:"
   ]
  },
  {
   "cell_type": "code",
   "execution_count": 15,
   "metadata": {},
   "outputs": [],
   "source": [
    "# A example of text:\n",
    "text_example = \"\"\"In 1974, the teenager Martha Moxley (Maggie Grace) moves to the high-class area of Belle Haven, Greenwich, Connecticut. On the Mischief Night, eve of Halloween, she was murdered in the backyard of her house and her murder remained unsolved. Twenty-two years later, the writer Mark Fuhrman (Christopher Meloni), who is a former LA detective that has fallen in disgrace for perjury in O.J. Simpson trial and moved to Idaho, decides to investigate the case with his partner Stephen Weeks (Andrew Mitchell) with the purpose of writing a book. The locals squirm and do not welcome them, but with the support of the retired detective Steve Carroll (Robert Forster) that was in charge of the investigation in the 70's, they discover the criminal and a net of power and money to cover the murder.<br /><br />\"Murder in Greenwich\" is a good TV movie, with the true story of a murder of a fifteen years old girl that was committed by a wealthy teenager whose mother was a Kennedy. The powerful and rich family used their influence to cover the murder for more than twenty years. However, a snoopy detective and convicted perjurer in disgrace was able to disclose how the hideous crime was committed. The screenplay shows the investigation of Mark and the last days of Martha in parallel, but there is a lack of the emotion in the dramatization. My vote is seven.<br /><br />Title (Brazil): Not Available\n",
    "\"\"\""
   ]
  },
  {
   "cell_type": "code",
   "execution_count": 21,
   "metadata": {},
   "outputs": [
    {
     "data": {
      "text/plain": [
       "{'x1': 8.0, 'x2': 14.0, 'x3': 0.0, 'x4': 0.0, 'x5': 0.0, 'x6': 0.0, 'x7': 0.0}"
      ]
     },
     "execution_count": 21,
     "metadata": {},
     "output_type": "execute_result"
    }
   ],
   "source": [
    "# Features getted of a review is show below\n",
    "features_example = extract_features(text_example, dictionary)\n",
    "features_example"
   ]
  },
  {
   "cell_type": "markdown",
   "metadata": {},
   "source": [
    "* Getting the row dataset"
   ]
  },
  {
   "cell_type": "code",
   "execution_count": 22,
   "metadata": {},
   "outputs": [
    {
     "data": {
      "text/html": [
       "<div>\n",
       "<style scoped>\n",
       "    .dataframe tbody tr th:only-of-type {\n",
       "        vertical-align: middle;\n",
       "    }\n",
       "\n",
       "    .dataframe tbody tr th {\n",
       "        vertical-align: top;\n",
       "    }\n",
       "\n",
       "    .dataframe thead th {\n",
       "        text-align: right;\n",
       "    }\n",
       "</style>\n",
       "<table border=\"1\" class=\"dataframe\">\n",
       "  <thead>\n",
       "    <tr style=\"text-align: right;\">\n",
       "      <th></th>\n",
       "      <th>review</th>\n",
       "      <th>sentiment</th>\n",
       "    </tr>\n",
       "  </thead>\n",
       "  <tbody>\n",
       "    <tr>\n",
       "      <th>49995</th>\n",
       "      <td>OK, lets start with the best. the building. al...</td>\n",
       "      <td>0</td>\n",
       "    </tr>\n",
       "    <tr>\n",
       "      <th>49996</th>\n",
       "      <td>The British 'heritage film' industry is out of...</td>\n",
       "      <td>0</td>\n",
       "    </tr>\n",
       "    <tr>\n",
       "      <th>49997</th>\n",
       "      <td>I don't even know where to begin on this one. ...</td>\n",
       "      <td>0</td>\n",
       "    </tr>\n",
       "    <tr>\n",
       "      <th>49998</th>\n",
       "      <td>Richard Tyler is a little boy who is scared of...</td>\n",
       "      <td>0</td>\n",
       "    </tr>\n",
       "    <tr>\n",
       "      <th>49999</th>\n",
       "      <td>I waited long to watch this movie. Also becaus...</td>\n",
       "      <td>1</td>\n",
       "    </tr>\n",
       "  </tbody>\n",
       "</table>\n",
       "</div>"
      ],
      "text/plain": [
       "                                                  review  sentiment\n",
       "49995  OK, lets start with the best. the building. al...          0\n",
       "49996  The British 'heritage film' industry is out of...          0\n",
       "49997  I don't even know where to begin on this one. ...          0\n",
       "49998  Richard Tyler is a little boy who is scared of...          0\n",
       "49999  I waited long to watch this movie. Also becaus...          1"
      ]
     },
     "execution_count": 22,
     "metadata": {},
     "output_type": "execute_result"
    }
   ],
   "source": [
    "import pandas as pd\n",
    "# if you want to download the original file:\n",
    "#df = pd.read_csv('https://raw.githubusercontent.com/rasbt/pattern_classification/master/data/50k_imdb_movie_reviews.csv')\n",
    "# otherwise load local file\n",
    "df = pd.read_csv('shuffled_movie_data.csv')\n",
    "df.tail()"
   ]
  },
  {
   "cell_type": "markdown",
   "metadata": {},
   "source": [
    "* Getting a DataFrame of Features"
   ]
  },
  {
   "cell_type": "code",
   "execution_count": 23,
   "metadata": {},
   "outputs": [
    {
     "data": {
      "text/html": [
       "<div>\n",
       "<style scoped>\n",
       "    .dataframe tbody tr th:only-of-type {\n",
       "        vertical-align: middle;\n",
       "    }\n",
       "\n",
       "    .dataframe tbody tr th {\n",
       "        vertical-align: top;\n",
       "    }\n",
       "\n",
       "    .dataframe thead th {\n",
       "        text-align: right;\n",
       "    }\n",
       "</style>\n",
       "<table border=\"1\" class=\"dataframe\">\n",
       "  <thead>\n",
       "    <tr style=\"text-align: right;\">\n",
       "      <th></th>\n",
       "      <th>x1</th>\n",
       "      <th>x2</th>\n",
       "      <th>x3</th>\n",
       "      <th>x4</th>\n",
       "      <th>x5</th>\n",
       "      <th>x6</th>\n",
       "      <th>x7</th>\n",
       "      <th>sentiment</th>\n",
       "    </tr>\n",
       "    <tr>\n",
       "      <th>Id</th>\n",
       "      <th></th>\n",
       "      <th></th>\n",
       "      <th></th>\n",
       "      <th></th>\n",
       "      <th></th>\n",
       "      <th></th>\n",
       "      <th></th>\n",
       "      <th></th>\n",
       "    </tr>\n",
       "  </thead>\n",
       "  <tbody>\n",
       "    <tr>\n",
       "      <th>0</th>\n",
       "      <td>8.0</td>\n",
       "      <td>14.0</td>\n",
       "      <td>0.0</td>\n",
       "      <td>0.0</td>\n",
       "      <td>0.0</td>\n",
       "      <td>0.0</td>\n",
       "      <td>0.0</td>\n",
       "      <td>1.0</td>\n",
       "    </tr>\n",
       "    <tr>\n",
       "      <th>1</th>\n",
       "      <td>13.0</td>\n",
       "      <td>10.0</td>\n",
       "      <td>0.0</td>\n",
       "      <td>0.0</td>\n",
       "      <td>0.0</td>\n",
       "      <td>4.0</td>\n",
       "      <td>1.0</td>\n",
       "      <td>0.0</td>\n",
       "    </tr>\n",
       "    <tr>\n",
       "      <th>2</th>\n",
       "      <td>14.0</td>\n",
       "      <td>21.0</td>\n",
       "      <td>0.0</td>\n",
       "      <td>0.0</td>\n",
       "      <td>0.0</td>\n",
       "      <td>4.0</td>\n",
       "      <td>1.0</td>\n",
       "      <td>0.0</td>\n",
       "    </tr>\n",
       "    <tr>\n",
       "      <th>3</th>\n",
       "      <td>4.0</td>\n",
       "      <td>0.0</td>\n",
       "      <td>0.0</td>\n",
       "      <td>1.0</td>\n",
       "      <td>1.0</td>\n",
       "      <td>0.0</td>\n",
       "      <td>0.0</td>\n",
       "      <td>1.0</td>\n",
       "    </tr>\n",
       "    <tr>\n",
       "      <th>4</th>\n",
       "      <td>4.0</td>\n",
       "      <td>2.0</td>\n",
       "      <td>0.0</td>\n",
       "      <td>0.0</td>\n",
       "      <td>0.0</td>\n",
       "      <td>0.0</td>\n",
       "      <td>0.0</td>\n",
       "      <td>0.0</td>\n",
       "    </tr>\n",
       "  </tbody>\n",
       "</table>\n",
       "</div>"
      ],
      "text/plain": [
       "      x1    x2   x3   x4   x5   x6   x7  sentiment\n",
       "Id                                                \n",
       "0    8.0  14.0  0.0  0.0  0.0  0.0  0.0        1.0\n",
       "1   13.0  10.0  0.0  0.0  0.0  4.0  1.0        0.0\n",
       "2   14.0  21.0  0.0  0.0  0.0  4.0  1.0        0.0\n",
       "3    4.0   0.0  0.0  1.0  1.0  0.0  0.0        1.0\n",
       "4    4.0   2.0  0.0  0.0  0.0  0.0  0.0        0.0"
      ]
     },
     "execution_count": 23,
     "metadata": {},
     "output_type": "execute_result"
    }
   ],
   "source": [
    "# Get a dataframe called *data*\n",
    "# Here is extracted all features of all Reviews\n",
    "# Aproximately two minutes to proccess\n",
    "data = pd.DataFrame(columns=['x1','x2','x3','x4','x5','x6','x7'])\n",
    "\n",
    "for index, row in df.iterrows():\n",
    "    texto = row['review']\n",
    "    sentiment = row['sentiment']\n",
    "    features_text = extract_features(texto, dictionary)\n",
    "    features_text['sentiment'] = sentiment\n",
    "    data = data.append(features_text, ignore_index=True)\n",
    "data.index.name = 'Id'\n",
    "data.head()"
   ]
  },
  {
   "cell_type": "markdown",
   "metadata": {},
   "source": [
    "# Few post analysis of features\n",
    "* Matrix of correlation"
   ]
  },
  {
   "cell_type": "code",
   "execution_count": 25,
   "metadata": {},
   "outputs": [
    {
     "data": {
      "text/plain": [
       "sentiment    1.000000\n",
       "x5           0.332986\n",
       "x4           0.311374\n",
       "x1           0.219605\n",
       "x3          -0.148990\n",
       "x2          -0.214834\n",
       "x6          -0.470211\n",
       "x7          -0.489493\n",
       "Name: sentiment, dtype: float64"
      ]
     },
     "execution_count": 25,
     "metadata": {},
     "output_type": "execute_result"
    }
   ],
   "source": [
    "data.corr()['sentiment'].sort_values(ascending=False)"
   ]
  },
  {
   "cell_type": "markdown",
   "metadata": {},
   "source": [
    "* Graphic of correlation"
   ]
  },
  {
   "cell_type": "code",
   "execution_count": 28,
   "metadata": {},
   "outputs": [
    {
     "data": {
      "text/plain": [
       "<matplotlib.axes._subplots.AxesSubplot at 0x7f72d23176a0>"
      ]
     },
     "execution_count": 28,
     "metadata": {},
     "output_type": "execute_result"
    },
    {
     "data": {
      "image/png": "[encoded data removed]",
      "text/plain": [
       "<Figure size 864x648 with 2 Axes>"
      ]
     },
     "metadata": {},
     "output_type": "display_data"
    }
   ],
   "source": [
    "import matplotlib.pyplot as plt\n",
    "import seaborn as sns\n",
    "f, ax = plt.subplots(figsize=(12, 9))\n",
    "sns.heatmap(data.corr(), vmax=.5, square=True)"
   ]
  },
  {
   "cell_type": "markdown",
   "metadata": {},
   "source": [
    "# Train Model"
   ]
  },
  {
   "cell_type": "code",
   "execution_count": 29,
   "metadata": {},
   "outputs": [],
   "source": [
    "# Get the DataSet to train X & Y\n",
    "Y = data['sentiment'].copy()\n",
    "X = data.copy()\n",
    "X.drop(['sentiment'], axis=1, inplace=True)"
   ]
  },
  {
   "cell_type": "markdown",
   "metadata": {},
   "source": [
    "* Uses of Cross Validation to split data 0.7 - 0.3"
   ]
  },
  {
   "cell_type": "code",
   "execution_count": 55,
   "metadata": {},
   "outputs": [],
   "source": [
    "from sklearn.cross_validation import train_test_split\n",
    "X_train, X_test, Y_train, Y_test = train_test_split(X, Y, test_size = 0.45, random_state = 0)"
   ]
  },
  {
   "cell_type": "markdown",
   "metadata": {},
   "source": [
    "* Using SKlearn to train"
   ]
  },
  {
   "cell_type": "code",
   "execution_count": 56,
   "metadata": {},
   "outputs": [
    {
     "data": {
      "text/plain": [
       "LogisticRegression(C=1.0, class_weight=None, dual=False, fit_intercept=True,\n",
       "          intercept_scaling=1, max_iter=100, multi_class='ovr', n_jobs=1,\n",
       "          penalty='l2', random_state=None, solver='liblinear', tol=0.0001,\n",
       "          verbose=0, warm_start=False)"
      ]
     },
     "execution_count": 56,
     "metadata": {},
     "output_type": "execute_result"
    }
   ],
   "source": [
    "from sklearn import linear_model\n",
    "lm = linear_model.LogisticRegression()\n",
    "lm.fit(X_train, Y_train)"
   ]
  },
  {
   "cell_type": "markdown",
   "metadata": {},
   "source": [
    "* Get the table of probabilities"
   ]
  },
  {
   "cell_type": "code",
   "execution_count": 57,
   "metadata": {},
   "outputs": [
    {
     "data": {
      "text/plain": [
       "array([[0.10279155, 0.89720845],\n",
       "       [0.88313789, 0.11686211],\n",
       "       [0.40706757, 0.59293243],\n",
       "       ...,\n",
       "       [0.06714786, 0.93285214],\n",
       "       [0.82602625, 0.17397375],\n",
       "       [0.14539385, 0.85460615]])"
      ]
     },
     "execution_count": 57,
     "metadata": {},
     "output_type": "execute_result"
    }
   ],
   "source": [
    "probs = lm.predict_proba(X_test)\n",
    "probs"
   ]
  },
  {
   "cell_type": "markdown",
   "metadata": {},
   "source": [
    "* Predict the X_test"
   ]
  },
  {
   "cell_type": "code",
   "execution_count": 58,
   "metadata": {},
   "outputs": [],
   "source": [
    "prediction = lm.predict(X_test)"
   ]
  },
  {
   "cell_type": "markdown",
   "metadata": {},
   "source": [
    "* Get the accuracy of the model"
   ]
  },
  {
   "cell_type": "code",
   "execution_count": 59,
   "metadata": {},
   "outputs": [
    {
     "data": {
      "text/plain": [
       "0.8014222222222223"
      ]
     },
     "execution_count": 59,
     "metadata": {},
     "output_type": "execute_result"
    }
   ],
   "source": [
    "lm.score(X_test, Y_test)"
   ]
  },
  {
   "cell_type": "markdown",
   "metadata": {},
   "source": [
    "* Show the confussion matrix"
   ]
  },
  {
   "cell_type": "code",
   "execution_count": 60,
   "metadata": {},
   "outputs": [
    {
     "data": {
      "text/plain": [
       "array([[8585, 2518],\n",
       "       [1950, 9447]])"
      ]
     },
     "execution_count": 60,
     "metadata": {},
     "output_type": "execute_result"
    }
   ],
   "source": [
    "from sklearn.metrics import confusion_matrix\n",
    "confusion_matrix(Y_test, prediction)"
   ]
  },
  {
   "cell_type": "markdown",
   "metadata": {},
   "source": [
    "# Own implementation of Logistic Regression"
   ]
  },
  {
   "cell_type": "markdown",
   "metadata": {},
   "source": [
    "This implementation of *Logistic Gradient* use the method of Newton & Raphson to get the maximum likehood coeficient"
   ]
  },
  {
   "cell_type": "code",
   "execution_count": 66,
   "metadata": {},
   "outputs": [],
   "source": [
    "import numpy as np\n",
    "from numpy.linalg import inv\n",
    "class MyLogisticRegression():\n",
    "    def __init__(self, coef = None):\n",
    "        self.coef = coef\n",
    "    \n",
    "    def logistic_prob(self, X, B):\n",
    "        rows = np.shape(X)[0] # Numero de filas\n",
    "        cols = np.shape(X)[1] # Número de columnas\n",
    "        pi = list(range(1, rows + 1))\n",
    "        exponent = list(range(1, rows +1 ))\n",
    "        # Obtener las probabilidades:\n",
    "        for i in range(rows):\n",
    "            exponent[i] = 0\n",
    "            # Obtener los exponentes, esto es por columnas:\n",
    "            for j in range(cols):\n",
    "                ex = X[i][j]*B[j]\n",
    "                exponent[i] = exponent[i] + ex\n",
    "            # End for exps\n",
    "            with np.errstate(divide='ignore', invalid='ignore'):\n",
    "                pi[i] = 1/(1 + np.exp(-exponent[i]))\n",
    "        return pi\n",
    "\n",
    "    def getW(self, P):\n",
    "        n = len(P)\n",
    "        W = np.zeros(n*n).reshape(n,n)\n",
    "        for i in range(n):\n",
    "            W[i,i] = P[i]*(1-P[i])\n",
    "            W[i,i].astype(float)\n",
    "        return W\n",
    "\n",
    "    def fit(self, data, labels, err_allowed=0.01):\n",
    "        X = data.values\n",
    "        Y = labels.values\n",
    "        rows = np.shape(X)[0]\n",
    "        # Definición de la entrada bias, siempre es 1\n",
    "        bias = np.ones(rows).reshape(rows, 1)\n",
    "        # Add to the end of the array, Bias.\n",
    "        __X = np.append(X, bias, axis = 1)\n",
    "        cols = np.shape(__X)[1]\n",
    "        # Inicializando beta como una matriz columna de ceros\n",
    "        B = np.zeros(cols).reshape(cols, 1)\n",
    "        # Primero se obtienen las probabilidades:\n",
    "        ## range(1, t) itera desde 1 hasta t-1\n",
    "        dB = np.array(range(1, cols + 1)).reshape(cols, 1)\n",
    "        # Definir un error inicial\n",
    "        current_error = 1000\n",
    "        while current_error > err_allowed:\n",
    "            # Obtener la matriz Pi\n",
    "            Pi = []\n",
    "            # Se obtiene una lista con todas las probabilidades\n",
    "            Pi = self.logistic_prob(__X, B)\n",
    "            # Obtener la matriz W:\n",
    "            W = self.getW(Pi)\n",
    "            den = inv(np.matmul(np.matmul(np.transpose(__X),W), __X))\n",
    "            inter = (Y- np.transpose(Pi)).transpose()\n",
    "            num = np.matmul(np.transpose(__X),(inter))\n",
    "            dB = np.matmul(den, num)\n",
    "            # Get the new Beta value\n",
    "            B = B + dB\n",
    "            current_error = np.sum(dB*dB)\n",
    "            print('Current Error>', current_error)\n",
    "            self.coef = B\n",
    "        print('B>', B)\n",
    "    \n",
    "    def dotproduct(self, a, b):\n",
    "        return sum(list(map(lambda x, y: x*y, a,b)))\n",
    "\n",
    "    def sigmoid(self, val):\n",
    "        return 1/(1 + np.exp(-val))\n",
    "\n",
    "    def predict(self, X_test, threshold=0.5):\n",
    "        if(np.shape(self.coef)[0] == 0 and np.shape(self.coef)[1] == 0):\n",
    "            print('Error: Entrenar el modelo')\n",
    "        else:\n",
    "            X = X_test.values\n",
    "            W = self.coef[:-1]\n",
    "            b = self.coef[-1]\n",
    "            estimated = np.zeros(np.shape(X)[0]).reshape(np.shape(X)[0], 1)\n",
    "            for i in range(0, np.shape(X)[0]):\n",
    "                xi = X[i,:]\n",
    "                reg = self.dotproduct(xi,W) + b\n",
    "                prob = self.sigmoid(float(reg))\n",
    "                if prob >= threshold:\n",
    "                    estimated[i,0] = 1\n",
    "                else:\n",
    "                    estimated[i,0] = 0\n",
    "            return estimated\n",
    "    def score(self, X_test, Y_test,threshold=0.5):\n",
    "        predicted = self.predicted(X_test, threshold)\n",
    "        Y_ar = Y_test.values\n",
    "        n = np.shape(X_ar)[0]\n",
    "        poscount = 0\n",
    "        for i in range(n):\n",
    "            if predicted[i] == Y_ar[i]:\n",
    "                poscount = poscount + 1\n",
    "        return poscount/n"
   ]
  },
  {
   "cell_type": "markdown",
   "metadata": {},
   "source": [
    "* Instantiate a object of Logistic Regression"
   ]
  },
  {
   "cell_type": "code",
   "execution_count": 62,
   "metadata": {},
   "outputs": [],
   "source": [
    "mylogreg = MyLogisticRegression()"
   ]
  },
  {
   "cell_type": "code",
   "execution_count": 63,
   "metadata": {},
   "outputs": [
    {
     "ename": "MemoryError",
     "evalue": "",
     "output_type": "error",
     "traceback": [
      "\u001b[0;31m---------------------------------------------------------------------------\u001b[0m",
      "\u001b[0;31mMemoryError\u001b[0m                               Traceback (most recent call last)",
      "\u001b[0;32m<ipython-input-63-81d0875ff74b>\u001b[0m in \u001b[0;36m<module>\u001b[0;34m()\u001b[0m\n\u001b[0;32m----> 1\u001b[0;31m \u001b[0mmypredicted\u001b[0m \u001b[0;34m=\u001b[0m \u001b[0mmylogreg\u001b[0m\u001b[0;34m.\u001b[0m\u001b[0mfit\u001b[0m\u001b[0;34m(\u001b[0m\u001b[0mX_train\u001b[0m\u001b[0;34m,\u001b[0m \u001b[0mY_train\u001b[0m\u001b[0;34m)\u001b[0m\u001b[0;34m\u001b[0m\u001b[0m\n\u001b[0m",
      "\u001b[0;32m<ipython-input-61-e03cd954b4ed>\u001b[0m in \u001b[0;36mfit\u001b[0;34m(self, data, labels, err_allowed)\u001b[0m\n\u001b[1;32m     52\u001b[0m             \u001b[0mPi\u001b[0m \u001b[0;34m=\u001b[0m \u001b[0mself\u001b[0m\u001b[0;34m.\u001b[0m\u001b[0mlogistic_prob\u001b[0m\u001b[0;34m(\u001b[0m\u001b[0m__X\u001b[0m\u001b[0;34m,\u001b[0m \u001b[0mB\u001b[0m\u001b[0;34m)\u001b[0m\u001b[0;34m\u001b[0m\u001b[0m\n\u001b[1;32m     53\u001b[0m             \u001b[0;31m# Obtener la matriz W:\u001b[0m\u001b[0;34m\u001b[0m\u001b[0;34m\u001b[0m\u001b[0m\n\u001b[0;32m---> 54\u001b[0;31m             \u001b[0mW\u001b[0m \u001b[0;34m=\u001b[0m \u001b[0mself\u001b[0m\u001b[0;34m.\u001b[0m\u001b[0mgetW\u001b[0m\u001b[0;34m(\u001b[0m\u001b[0mPi\u001b[0m\u001b[0;34m)\u001b[0m\u001b[0;34m\u001b[0m\u001b[0m\n\u001b[0m\u001b[1;32m     55\u001b[0m             \u001b[0mden\u001b[0m \u001b[0;34m=\u001b[0m \u001b[0minv\u001b[0m\u001b[0;34m(\u001b[0m\u001b[0mnp\u001b[0m\u001b[0;34m.\u001b[0m\u001b[0mmatmul\u001b[0m\u001b[0;34m(\u001b[0m\u001b[0mnp\u001b[0m\u001b[0;34m.\u001b[0m\u001b[0mmatmul\u001b[0m\u001b[0;34m(\u001b[0m\u001b[0mnp\u001b[0m\u001b[0;34m.\u001b[0m\u001b[0mtranspose\u001b[0m\u001b[0;34m(\u001b[0m\u001b[0m__X\u001b[0m\u001b[0;34m)\u001b[0m\u001b[0;34m,\u001b[0m\u001b[0mW\u001b[0m\u001b[0;34m)\u001b[0m\u001b[0;34m,\u001b[0m \u001b[0m__X\u001b[0m\u001b[0;34m)\u001b[0m\u001b[0;34m)\u001b[0m\u001b[0;34m\u001b[0m\u001b[0m\n\u001b[1;32m     56\u001b[0m             \u001b[0minter\u001b[0m \u001b[0;34m=\u001b[0m \u001b[0;34m(\u001b[0m\u001b[0mY\u001b[0m\u001b[0;34m-\u001b[0m \u001b[0mnp\u001b[0m\u001b[0;34m.\u001b[0m\u001b[0mtranspose\u001b[0m\u001b[0;34m(\u001b[0m\u001b[0mPi\u001b[0m\u001b[0;34m)\u001b[0m\u001b[0;34m)\u001b[0m\u001b[0;34m.\u001b[0m\u001b[0mtranspose\u001b[0m\u001b[0;34m(\u001b[0m\u001b[0;34m)\u001b[0m\u001b[0;34m\u001b[0m\u001b[0m\n",
      "\u001b[0;32m<ipython-input-61-e03cd954b4ed>\u001b[0m in \u001b[0;36mgetW\u001b[0;34m(self, P)\u001b[0m\n\u001b[1;32m     24\u001b[0m     \u001b[0;32mdef\u001b[0m \u001b[0mgetW\u001b[0m\u001b[0;34m(\u001b[0m\u001b[0mself\u001b[0m\u001b[0;34m,\u001b[0m \u001b[0mP\u001b[0m\u001b[0;34m)\u001b[0m\u001b[0;34m:\u001b[0m\u001b[0;34m\u001b[0m\u001b[0m\n\u001b[1;32m     25\u001b[0m         \u001b[0mn\u001b[0m \u001b[0;34m=\u001b[0m \u001b[0mlen\u001b[0m\u001b[0;34m(\u001b[0m\u001b[0mP\u001b[0m\u001b[0;34m)\u001b[0m\u001b[0;34m\u001b[0m\u001b[0m\n\u001b[0;32m---> 26\u001b[0;31m         \u001b[0mW\u001b[0m \u001b[0;34m=\u001b[0m \u001b[0mnp\u001b[0m\u001b[0;34m.\u001b[0m\u001b[0mzeros\u001b[0m\u001b[0;34m(\u001b[0m\u001b[0mn\u001b[0m\u001b[0;34m*\u001b[0m\u001b[0mn\u001b[0m\u001b[0;34m)\u001b[0m\u001b[0;34m.\u001b[0m\u001b[0mreshape\u001b[0m\u001b[0;34m(\u001b[0m\u001b[0mn\u001b[0m\u001b[0;34m,\u001b[0m\u001b[0mn\u001b[0m\u001b[0;34m)\u001b[0m\u001b[0;34m\u001b[0m\u001b[0m\n\u001b[0m\u001b[1;32m     27\u001b[0m         \u001b[0;32mfor\u001b[0m \u001b[0mi\u001b[0m \u001b[0;32min\u001b[0m \u001b[0mrange\u001b[0m\u001b[0;34m(\u001b[0m\u001b[0mn\u001b[0m\u001b[0;34m)\u001b[0m\u001b[0;34m:\u001b[0m\u001b[0;34m\u001b[0m\u001b[0m\n\u001b[1;32m     28\u001b[0m             \u001b[0mW\u001b[0m\u001b[0;34m[\u001b[0m\u001b[0mi\u001b[0m\u001b[0;34m,\u001b[0m\u001b[0mi\u001b[0m\u001b[0;34m]\u001b[0m \u001b[0;34m=\u001b[0m \u001b[0mP\u001b[0m\u001b[0;34m[\u001b[0m\u001b[0mi\u001b[0m\u001b[0;34m]\u001b[0m\u001b[0;34m*\u001b[0m\u001b[0;34m(\u001b[0m\u001b[0;36m1\u001b[0m\u001b[0;34m-\u001b[0m\u001b[0mP\u001b[0m\u001b[0;34m[\u001b[0m\u001b[0mi\u001b[0m\u001b[0;34m]\u001b[0m\u001b[0;34m)\u001b[0m\u001b[0;34m\u001b[0m\u001b[0m\n",
      "\u001b[0;31mMemoryError\u001b[0m: "
     ]
    }
   ],
   "source": [
    "mypredicted = mylogreg.fit(X_train, Y_train)"
   ]
  }
 ],
 "metadata": {
  "kernelspec": {
   "display_name": "Python 3",
   "language": "python",
   "name": "python3"
  },
  "language_info": {
   "codemirror_mode": {
    "name": "ipython",
    "version": 3
   },
   "file_extension": ".py",
   "mimetype": "text/x-python",
   "name": "python",
   "nbconvert_exporter": "python",
   "pygments_lexer": "ipython3",
   "version": "3.6.5"
  }
 },
 "nbformat": 4,
 "nbformat_minor": 2
}
